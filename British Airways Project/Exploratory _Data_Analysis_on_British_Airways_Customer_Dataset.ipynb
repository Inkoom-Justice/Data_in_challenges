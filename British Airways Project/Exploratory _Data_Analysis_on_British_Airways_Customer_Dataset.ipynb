{
 "cells": [
  {
   "cell_type": "markdown",
   "id": "6bf4e952",
   "metadata": {},
   "source": [
    "## Exploratory Data Analysis on Booking Behavior data of customers for British Airways"
   ]
  },
  {
   "cell_type": "markdown",
   "id": "18b76c6f",
   "metadata": {},
   "source": [
    "We will explore the customer data first to get to know it better in depth.\n"
   ]
  },
  {
   "cell_type": "code",
   "execution_count": 29,
   "id": "b64e6c10",
   "metadata": {},
   "outputs": [],
   "source": [
    "#imports\n",
    "\n",
    "import pandas as pd\n",
    "import numpy as np\n",
    "import os\n",
    "\n",
    "import matplotlib.pyplot as plt\n",
    "import seaborn as sns"
   ]
  },
  {
   "cell_type": "code",
   "execution_count": 30,
   "id": "a07b1c6b",
   "metadata": {},
   "outputs": [],
   "source": [
    "#get current working directory\n",
    "\n",
    "cwd = os.getcwd()\n",
    "\n",
    "#read the csv\n",
    "\n",
    "df = pd.read_csv(cwd + \"/customer_booking.csv\",  encoding=\"ISO-8859-1\")"
   ]
  },
  {
   "cell_type": "code",
   "execution_count": 31,
   "id": "d33a62bc",
   "metadata": {},
   "outputs": [
    {
     "data": {
      "text/html": [
       "<div>\n",
       "<style scoped>\n",
       "    .dataframe tbody tr th:only-of-type {\n",
       "        vertical-align: middle;\n",
       "    }\n",
       "\n",
       "    .dataframe tbody tr th {\n",
       "        vertical-align: top;\n",
       "    }\n",
       "\n",
       "    .dataframe thead th {\n",
       "        text-align: right;\n",
       "    }\n",
       "</style>\n",
       "<table border=\"1\" class=\"dataframe\">\n",
       "  <thead>\n",
       "    <tr style=\"text-align: right;\">\n",
       "      <th></th>\n",
       "      <th>num_passengers</th>\n",
       "      <th>sales_channel</th>\n",
       "      <th>trip_type</th>\n",
       "      <th>purchase_lead</th>\n",
       "      <th>length_of_stay</th>\n",
       "      <th>flight_hour</th>\n",
       "      <th>flight_day</th>\n",
       "      <th>route</th>\n",
       "      <th>booking_origin</th>\n",
       "      <th>wants_extra_baggage</th>\n",
       "      <th>wants_preferred_seat</th>\n",
       "      <th>wants_in_flight_meals</th>\n",
       "      <th>flight_duration</th>\n",
       "      <th>booking_complete</th>\n",
       "    </tr>\n",
       "  </thead>\n",
       "  <tbody>\n",
       "    <tr>\n",
       "      <th>0</th>\n",
       "      <td>2</td>\n",
       "      <td>Internet</td>\n",
       "      <td>RoundTrip</td>\n",
       "      <td>262</td>\n",
       "      <td>19</td>\n",
       "      <td>7</td>\n",
       "      <td>Sat</td>\n",
       "      <td>AKLDEL</td>\n",
       "      <td>New Zealand</td>\n",
       "      <td>1</td>\n",
       "      <td>0</td>\n",
       "      <td>0</td>\n",
       "      <td>5.52</td>\n",
       "      <td>0</td>\n",
       "    </tr>\n",
       "    <tr>\n",
       "      <th>1</th>\n",
       "      <td>1</td>\n",
       "      <td>Internet</td>\n",
       "      <td>RoundTrip</td>\n",
       "      <td>112</td>\n",
       "      <td>20</td>\n",
       "      <td>3</td>\n",
       "      <td>Sat</td>\n",
       "      <td>AKLDEL</td>\n",
       "      <td>New Zealand</td>\n",
       "      <td>0</td>\n",
       "      <td>0</td>\n",
       "      <td>0</td>\n",
       "      <td>5.52</td>\n",
       "      <td>0</td>\n",
       "    </tr>\n",
       "    <tr>\n",
       "      <th>2</th>\n",
       "      <td>2</td>\n",
       "      <td>Internet</td>\n",
       "      <td>RoundTrip</td>\n",
       "      <td>243</td>\n",
       "      <td>22</td>\n",
       "      <td>17</td>\n",
       "      <td>Wed</td>\n",
       "      <td>AKLDEL</td>\n",
       "      <td>India</td>\n",
       "      <td>1</td>\n",
       "      <td>1</td>\n",
       "      <td>0</td>\n",
       "      <td>5.52</td>\n",
       "      <td>0</td>\n",
       "    </tr>\n",
       "    <tr>\n",
       "      <th>3</th>\n",
       "      <td>1</td>\n",
       "      <td>Internet</td>\n",
       "      <td>RoundTrip</td>\n",
       "      <td>96</td>\n",
       "      <td>31</td>\n",
       "      <td>4</td>\n",
       "      <td>Sat</td>\n",
       "      <td>AKLDEL</td>\n",
       "      <td>New Zealand</td>\n",
       "      <td>0</td>\n",
       "      <td>0</td>\n",
       "      <td>1</td>\n",
       "      <td>5.52</td>\n",
       "      <td>0</td>\n",
       "    </tr>\n",
       "    <tr>\n",
       "      <th>4</th>\n",
       "      <td>2</td>\n",
       "      <td>Internet</td>\n",
       "      <td>RoundTrip</td>\n",
       "      <td>68</td>\n",
       "      <td>22</td>\n",
       "      <td>15</td>\n",
       "      <td>Wed</td>\n",
       "      <td>AKLDEL</td>\n",
       "      <td>India</td>\n",
       "      <td>1</td>\n",
       "      <td>0</td>\n",
       "      <td>1</td>\n",
       "      <td>5.52</td>\n",
       "      <td>0</td>\n",
       "    </tr>\n",
       "  </tbody>\n",
       "</table>\n",
       "</div>"
      ],
      "text/plain": [
       "   num_passengers sales_channel  trip_type  purchase_lead  length_of_stay  \\\n",
       "0               2      Internet  RoundTrip            262              19   \n",
       "1               1      Internet  RoundTrip            112              20   \n",
       "2               2      Internet  RoundTrip            243              22   \n",
       "3               1      Internet  RoundTrip             96              31   \n",
       "4               2      Internet  RoundTrip             68              22   \n",
       "\n",
       "   flight_hour flight_day   route booking_origin  wants_extra_baggage  \\\n",
       "0            7        Sat  AKLDEL    New Zealand                    1   \n",
       "1            3        Sat  AKLDEL    New Zealand                    0   \n",
       "2           17        Wed  AKLDEL          India                    1   \n",
       "3            4        Sat  AKLDEL    New Zealand                    0   \n",
       "4           15        Wed  AKLDEL          India                    1   \n",
       "\n",
       "   wants_preferred_seat  wants_in_flight_meals  flight_duration  \\\n",
       "0                     0                      0             5.52   \n",
       "1                     0                      0             5.52   \n",
       "2                     1                      0             5.52   \n",
       "3                     0                      1             5.52   \n",
       "4                     0                      1             5.52   \n",
       "\n",
       "   booking_complete  \n",
       "0                 0  \n",
       "1                 0  \n",
       "2                 0  \n",
       "3                 0  \n",
       "4                 0  "
      ]
     },
     "execution_count": 31,
     "metadata": {},
     "output_type": "execute_result"
    }
   ],
   "source": [
    "df.head()"
   ]
  },
  {
   "cell_type": "code",
   "execution_count": 32,
   "id": "6aa22980",
   "metadata": {},
   "outputs": [
    {
     "data": {
      "text/plain": [
       "(50000, 14)"
      ]
     },
     "execution_count": 32,
     "metadata": {},
     "output_type": "execute_result"
    }
   ],
   "source": [
    "df.shape"
   ]
  },
  {
   "cell_type": "code",
   "execution_count": 33,
   "id": "cc25edfe",
   "metadata": {},
   "outputs": [
    {
     "data": {
      "text/html": [
       "<div>\n",
       "<style scoped>\n",
       "    .dataframe tbody tr th:only-of-type {\n",
       "        vertical-align: middle;\n",
       "    }\n",
       "\n",
       "    .dataframe tbody tr th {\n",
       "        vertical-align: top;\n",
       "    }\n",
       "\n",
       "    .dataframe thead th {\n",
       "        text-align: right;\n",
       "    }\n",
       "</style>\n",
       "<table border=\"1\" class=\"dataframe\">\n",
       "  <thead>\n",
       "    <tr style=\"text-align: right;\">\n",
       "      <th></th>\n",
       "      <th>num_passengers</th>\n",
       "      <th>purchase_lead</th>\n",
       "      <th>length_of_stay</th>\n",
       "      <th>flight_hour</th>\n",
       "      <th>wants_extra_baggage</th>\n",
       "      <th>wants_preferred_seat</th>\n",
       "      <th>wants_in_flight_meals</th>\n",
       "      <th>flight_duration</th>\n",
       "      <th>booking_complete</th>\n",
       "    </tr>\n",
       "  </thead>\n",
       "  <tbody>\n",
       "    <tr>\n",
       "      <th>count</th>\n",
       "      <td>50000.000000</td>\n",
       "      <td>50000.000000</td>\n",
       "      <td>50000.00000</td>\n",
       "      <td>50000.00000</td>\n",
       "      <td>50000.000000</td>\n",
       "      <td>50000.000000</td>\n",
       "      <td>50000.000000</td>\n",
       "      <td>50000.000000</td>\n",
       "      <td>50000.000000</td>\n",
       "    </tr>\n",
       "    <tr>\n",
       "      <th>mean</th>\n",
       "      <td>1.591240</td>\n",
       "      <td>84.940480</td>\n",
       "      <td>23.04456</td>\n",
       "      <td>9.06634</td>\n",
       "      <td>0.668780</td>\n",
       "      <td>0.296960</td>\n",
       "      <td>0.427140</td>\n",
       "      <td>7.277561</td>\n",
       "      <td>0.149560</td>\n",
       "    </tr>\n",
       "    <tr>\n",
       "      <th>std</th>\n",
       "      <td>1.020165</td>\n",
       "      <td>90.451378</td>\n",
       "      <td>33.88767</td>\n",
       "      <td>5.41266</td>\n",
       "      <td>0.470657</td>\n",
       "      <td>0.456923</td>\n",
       "      <td>0.494668</td>\n",
       "      <td>1.496863</td>\n",
       "      <td>0.356643</td>\n",
       "    </tr>\n",
       "    <tr>\n",
       "      <th>min</th>\n",
       "      <td>1.000000</td>\n",
       "      <td>0.000000</td>\n",
       "      <td>0.00000</td>\n",
       "      <td>0.00000</td>\n",
       "      <td>0.000000</td>\n",
       "      <td>0.000000</td>\n",
       "      <td>0.000000</td>\n",
       "      <td>4.670000</td>\n",
       "      <td>0.000000</td>\n",
       "    </tr>\n",
       "    <tr>\n",
       "      <th>25%</th>\n",
       "      <td>1.000000</td>\n",
       "      <td>21.000000</td>\n",
       "      <td>5.00000</td>\n",
       "      <td>5.00000</td>\n",
       "      <td>0.000000</td>\n",
       "      <td>0.000000</td>\n",
       "      <td>0.000000</td>\n",
       "      <td>5.620000</td>\n",
       "      <td>0.000000</td>\n",
       "    </tr>\n",
       "    <tr>\n",
       "      <th>50%</th>\n",
       "      <td>1.000000</td>\n",
       "      <td>51.000000</td>\n",
       "      <td>17.00000</td>\n",
       "      <td>9.00000</td>\n",
       "      <td>1.000000</td>\n",
       "      <td>0.000000</td>\n",
       "      <td>0.000000</td>\n",
       "      <td>7.570000</td>\n",
       "      <td>0.000000</td>\n",
       "    </tr>\n",
       "    <tr>\n",
       "      <th>75%</th>\n",
       "      <td>2.000000</td>\n",
       "      <td>115.000000</td>\n",
       "      <td>28.00000</td>\n",
       "      <td>13.00000</td>\n",
       "      <td>1.000000</td>\n",
       "      <td>1.000000</td>\n",
       "      <td>1.000000</td>\n",
       "      <td>8.830000</td>\n",
       "      <td>0.000000</td>\n",
       "    </tr>\n",
       "    <tr>\n",
       "      <th>max</th>\n",
       "      <td>9.000000</td>\n",
       "      <td>867.000000</td>\n",
       "      <td>778.00000</td>\n",
       "      <td>23.00000</td>\n",
       "      <td>1.000000</td>\n",
       "      <td>1.000000</td>\n",
       "      <td>1.000000</td>\n",
       "      <td>9.500000</td>\n",
       "      <td>1.000000</td>\n",
       "    </tr>\n",
       "  </tbody>\n",
       "</table>\n",
       "</div>"
      ],
      "text/plain": [
       "       num_passengers  purchase_lead  length_of_stay  flight_hour  \\\n",
       "count    50000.000000   50000.000000     50000.00000  50000.00000   \n",
       "mean         1.591240      84.940480        23.04456      9.06634   \n",
       "std          1.020165      90.451378        33.88767      5.41266   \n",
       "min          1.000000       0.000000         0.00000      0.00000   \n",
       "25%          1.000000      21.000000         5.00000      5.00000   \n",
       "50%          1.000000      51.000000        17.00000      9.00000   \n",
       "75%          2.000000     115.000000        28.00000     13.00000   \n",
       "max          9.000000     867.000000       778.00000     23.00000   \n",
       "\n",
       "       wants_extra_baggage  wants_preferred_seat  wants_in_flight_meals  \\\n",
       "count         50000.000000          50000.000000           50000.000000   \n",
       "mean              0.668780              0.296960               0.427140   \n",
       "std               0.470657              0.456923               0.494668   \n",
       "min               0.000000              0.000000               0.000000   \n",
       "25%               0.000000              0.000000               0.000000   \n",
       "50%               1.000000              0.000000               0.000000   \n",
       "75%               1.000000              1.000000               1.000000   \n",
       "max               1.000000              1.000000               1.000000   \n",
       "\n",
       "       flight_duration  booking_complete  \n",
       "count     50000.000000      50000.000000  \n",
       "mean          7.277561          0.149560  \n",
       "std           1.496863          0.356643  \n",
       "min           4.670000          0.000000  \n",
       "25%           5.620000          0.000000  \n",
       "50%           7.570000          0.000000  \n",
       "75%           8.830000          0.000000  \n",
       "max           9.500000          1.000000  "
      ]
     },
     "execution_count": 33,
     "metadata": {},
     "output_type": "execute_result"
    }
   ],
   "source": [
    "df.describe()"
   ]
  },
  {
   "cell_type": "code",
   "execution_count": 34,
   "id": "87da8c0d",
   "metadata": {},
   "outputs": [
    {
     "name": "stdout",
     "output_type": "stream",
     "text": [
      "<class 'pandas.core.frame.DataFrame'>\n",
      "RangeIndex: 50000 entries, 0 to 49999\n",
      "Data columns (total 14 columns):\n",
      " #   Column                 Non-Null Count  Dtype  \n",
      "---  ------                 --------------  -----  \n",
      " 0   num_passengers         50000 non-null  int64  \n",
      " 1   sales_channel          50000 non-null  object \n",
      " 2   trip_type              50000 non-null  object \n",
      " 3   purchase_lead          50000 non-null  int64  \n",
      " 4   length_of_stay         50000 non-null  int64  \n",
      " 5   flight_hour            50000 non-null  int64  \n",
      " 6   flight_day             50000 non-null  object \n",
      " 7   route                  50000 non-null  object \n",
      " 8   booking_origin         50000 non-null  object \n",
      " 9   wants_extra_baggage    50000 non-null  int64  \n",
      " 10  wants_preferred_seat   50000 non-null  int64  \n",
      " 11  wants_in_flight_meals  50000 non-null  int64  \n",
      " 12  flight_duration        50000 non-null  float64\n",
      " 13  booking_complete       50000 non-null  int64  \n",
      "dtypes: float64(1), int64(8), object(5)\n",
      "memory usage: 5.3+ MB\n"
     ]
    }
   ],
   "source": [
    "df.info()"
   ]
  },
  {
   "cell_type": "markdown",
   "id": "1abfe496",
   "metadata": {},
   "source": [
    "### Sales info"
   ]
  },
  {
   "cell_type": "code",
   "execution_count": 35,
   "id": "f5a33928",
   "metadata": {},
   "outputs": [
    {
     "name": "stdout",
     "output_type": "stream",
     "text": [
      "Number of bookings made across various media:\n",
      "  sales_channel\n",
      "Internet    44382\n",
      "Mobile       5618\n",
      "Name: count, dtype: int64\n"
     ]
    }
   ],
   "source": [
    "# number of bookings done on the various mediums\n",
    "print('Number of bookings made across various media:\\n ',df.sales_channel.value_counts()) "
   ]
  },
  {
   "cell_type": "code",
   "execution_count": 36,
   "id": "6ead308f",
   "metadata": {},
   "outputs": [
    {
     "name": "stdout",
     "output_type": "stream",
     "text": [
      "Percentage of internet bookings: 88.76%\n",
      "Percentage of mobile bookings: 11.24%\n"
     ]
    }
   ],
   "source": [
    "# number of bookings done on the internet\n",
    "internet_booking = df.sales_channel.value_counts().values[0]\n",
    "# percentage of internet bookings\n",
    "internet_booking_percentage = internet_booking  / df.sales_channel.count() *100\n",
    "# number of mobile bookings\n",
    "mobile_booking = df.sales_channel.value_counts().values[1]\n",
    "# percentage of mobile bookings\n",
    "mobile_booking_percentage = mobile_booking  / df.sales_channel.count() *100\n",
    "\n",
    "print(f'Percentage of internet bookings: {round(internet_booking_percentage,2)}%')\n",
    "print(f'Percentage of mobile bookings: {round(mobile_booking_percentage,2)}%')"
   ]
  },
  {
   "cell_type": "markdown",
   "id": "8fb507b1",
   "metadata": {},
   "source": [
    "### Trip Type"
   ]
  },
  {
   "cell_type": "code",
   "execution_count": 37,
   "id": "e1f618f2",
   "metadata": {},
   "outputs": [
    {
     "name": "stdout",
     "output_type": "stream",
     "text": [
      "Number of trips for the various trip types: \n",
      " trip_type\n",
      "RoundTrip     49497\n",
      "OneWay          387\n",
      "CircleTrip      116\n",
      "Name: count, dtype: int64\n"
     ]
    }
   ],
   "source": [
    "# identify the number of each type of trip\n",
    "print('Number of trips for the various trip types: \\n', df.trip_type.value_counts())"
   ]
  },
  {
   "cell_type": "code",
   "execution_count": 38,
   "id": "71f4dea5",
   "metadata": {},
   "outputs": [
    {
     "name": "stdout",
     "output_type": "stream",
     "text": [
      "Percentage of round trips: 98.994 %\n",
      "Percentage of oneway trips: 0.774 %\n",
      "Percentage of circle trips: 0.232 %\n"
     ]
    }
   ],
   "source": [
    "# percentage of the various types of trip\n",
    "round_trip = df.trip_type.value_counts().values[0]/ df.trip_type.count() *100\n",
    "oneway_trip = df.trip_type.value_counts().values[1]/ df.trip_type.count() *100\n",
    "circle_trip = df.trip_type.value_counts().values[2]/ df.trip_type.count() *100\n",
    "print(f\"Percentage of round trips: {round_trip} %\")\n",
    "print(f\"Percentage of oneway trips: {oneway_trip} %\")\n",
    "print(f\"Percentage of circle trips: {circle_trip} %\")\n"
   ]
  },
  {
   "cell_type": "markdown",
   "id": "09083185",
   "metadata": {},
   "source": [
    "### Purchase Lead"
   ]
  },
  {
   "cell_type": "code",
   "execution_count": 40,
   "id": "25dc875c",
   "metadata": {},
   "outputs": [
    {
     "name": "stderr",
     "output_type": "stream",
     "text": [
      "C:\\Users\\JusticePC\\anaconda3\\lib\\site-packages\\seaborn\\_oldcore.py:1498: FutureWarning: is_categorical_dtype is deprecated and will be removed in a future version. Use isinstance(dtype, CategoricalDtype) instead\n",
      "  if pd.api.types.is_categorical_dtype(vector):\n",
      "C:\\Users\\JusticePC\\anaconda3\\lib\\site-packages\\seaborn\\_oldcore.py:1119: FutureWarning: use_inf_as_na option is deprecated and will be removed in a future version. Convert inf values to NaN before operating instead.\n",
      "  with pd.option_context('mode.use_inf_as_na', True):\n"
     ]
    },
    {
     "data": {
      "image/png": "[encoded data removed]",
      "text/plain": [
       "<Figure size 1500x500 with 1 Axes>"
      ]
     },
     "metadata": {},
     "output_type": "display_data"
    }
   ],
   "source": [
    "plt.figure(figsize=(15,5))\n",
    "sns.histplot(data=df, x='purchase_lead', binwidth=10,kde=True);\n",
    "plt.show()"
   ]
  },
  {
   "cell_type": "markdown",
   "id": "4b151d38",
   "metadata": {},
   "source": [
    "Some bookings were made more than 2 years before the travel date, which seems highly unusual. However, it's possible that this occurred due to cancellations and rebookings within a 6-month period, potentially resulting in double-counting. Typically, airlines allow tickets to be rebooked within a year. For now, we will treat these cases as outliers, as they could significantly impact the results of our predictive model."
   ]
  },
  {
   "cell_type": "code",
   "execution_count": 45,
   "id": "96753898",
   "metadata": {},
   "outputs": [
    {
     "data": {
      "text/plain": [
       "purchase_lead\n",
       "False    49986\n",
       "True        14\n",
       "Name: count, dtype: int64"
      ]
     },
     "execution_count": 45,
     "metadata": {},
     "output_type": "execute_result"
    }
   ],
   "source": [
    "# number of bookings beyond 1 and half years\n",
    "(df.purchase_lead >550).value_counts()"
   ]
  },
  {
   "cell_type": "code",
   "execution_count": 46,
   "id": "4e2412c0",
   "metadata": {},
   "outputs": [
    {
     "name": "stdout",
     "output_type": "stream",
     "text": [
      "Percentage of outliers: 0.00028%\n"
     ]
    }
   ],
   "source": [
    "# percentage of outliers\n",
    "print(f'Percentage of outliers: {(df.purchase_lead >550).value_counts().values[1]/len(df.purchase_lead)}%')"
   ]
  },
  {
   "cell_type": "markdown",
   "id": "b51c1285",
   "metadata": {},
   "source": [
    "Given that the percentage of outliers is negligible, we can safely assume that customers do not typically book more than 1.5 years in advance. Consequently, we will proceed by removing all entries with a 'purchase_lead' exceeding 550 days."
   ]
  },
  {
   "cell_type": "code",
   "execution_count": 50,
   "id": "c749699d",
   "metadata": {},
   "outputs": [
    {
     "data": {
      "text/plain": [
       "(49986, 14)"
      ]
     },
     "execution_count": 50,
     "metadata": {},
     "output_type": "execute_result"
    }
   ],
   "source": [
    "# create a dataframe with purchase_lead less than or equal to 550 days\n",
    "df = df[df.purchase_lead <= 550]\n",
    "df.shape"
   ]
  },
  {
   "cell_type": "markdown",
   "id": "3e6673e2",
   "metadata": {},
   "source": [
    "### Length Of Stay"
   ]
  },
  {
   "cell_type": "code",
   "execution_count": 51,
   "id": "b280b2db",
   "metadata": {},
   "outputs": [
    {
     "name": "stderr",
     "output_type": "stream",
     "text": [
      "C:\\Users\\JusticePC\\anaconda3\\lib\\site-packages\\seaborn\\_oldcore.py:1498: FutureWarning: is_categorical_dtype is deprecated and will be removed in a future version. Use isinstance(dtype, CategoricalDtype) instead\n",
      "  if pd.api.types.is_categorical_dtype(vector):\n",
      "C:\\Users\\JusticePC\\anaconda3\\lib\\site-packages\\seaborn\\_oldcore.py:1119: FutureWarning: use_inf_as_na option is deprecated and will be removed in a future version. Convert inf values to NaN before operating instead.\n",
      "  with pd.option_context('mode.use_inf_as_na', True):\n"
     ]
    },
    {
     "data": {
      "text/plain": [
       "<AxesSubplot:xlabel='length_of_stay', ylabel='Count'>"
      ]
     },
     "execution_count": 51,
     "metadata": {},
     "output_type": "execute_result"
    },
    {
     "data": {
      "image/png": "[encoded data removed]",
      "text/plain": [
       "<Figure size 1500x500 with 1 Axes>"
      ]
     },
     "metadata": {},
     "output_type": "display_data"
    }
   ],
   "source": [
    "plt.figure(figsize=(15,5))\n",
    "sns.histplot(data=df, x=\"length_of_stay\", binwidth=15,kde=True)"
   ]
  },
  {
   "cell_type": "markdown",
   "id": "ad1d4f06",
   "metadata": {},
   "source": [
    "Let's determine the number of entries in our dataset where the length of stay exceeds 550 days (~1.5years)."
   ]
  },
  {
   "cell_type": "code",
   "execution_count": 55,
   "id": "a257b937",
   "metadata": {},
   "outputs": [
    {
     "data": {
      "text/plain": [
       "length_of_stay\n",
       "False    49980\n",
       "True         6\n",
       "Name: count, dtype: int64"
      ]
     },
     "execution_count": 55,
     "metadata": {},
     "output_type": "execute_result"
    }
   ],
   "source": [
    "(df.length_of_stay> 550).value_counts()"
   ]
  },
  {
   "cell_type": "code",
   "execution_count": 56,
   "id": "fb238b28",
   "metadata": {},
   "outputs": [
    {
     "data": {
      "text/plain": [
       "booking_complete\n",
       "0    5\n",
       "1    1\n",
       "Name: count, dtype: int64"
      ]
     },
     "execution_count": 56,
     "metadata": {},
     "output_type": "execute_result"
    }
   ],
   "source": [
    "df[df.length_of_stay> 550].booking_complete.value_counts()"
   ]
  },
  {
   "cell_type": "markdown",
   "id": "6647c8bc",
   "metadata": {},
   "source": [
    "We are going to stick to dataset with 550 or less length of stay days."
   ]
  },
  {
   "cell_type": "code",
   "execution_count": 58,
   "id": "b36284e4",
   "metadata": {},
   "outputs": [
    {
     "data": {
      "text/plain": [
       "(49980, 14)"
      ]
     },
     "execution_count": 58,
     "metadata": {},
     "output_type": "execute_result"
    }
   ],
   "source": [
    "#filtering the data to have only length of stay days less than 500 days\n",
    "df = df[df.length_of_stay <=550 ]\n",
    "df.shape"
   ]
  },
  {
   "cell_type": "markdown",
   "id": "88d7da40",
   "metadata": {},
   "source": [
    "### Flight Day\n",
    "\n",
    "We will map the flight day with a number of a week. "
   ]
  },
  {
   "cell_type": "code",
   "execution_count": 59,
   "id": "2695fb3c",
   "metadata": {},
   "outputs": [],
   "source": [
    "# numerate days starting with sunday as day 1\n",
    "numerate_days = {\n",
    "    \"Sun\" : 1,\n",
    "    \"Mon\" : 2,\n",
    "    \"Tue\" : 3,\n",
    "    \"Wed\" : 4,\n",
    "    \"Thu\" : 5,\n",
    "    \"Fri\" : 6,\n",
    "    \"Sat\" : 7\n",
    "}\n",
    "\n",
    "df.flight_day = df.flight_day.map(numerate_days)"
   ]
  },
  {
   "cell_type": "code",
   "execution_count": 60,
   "id": "b04b07e3",
   "metadata": {},
   "outputs": [
    {
     "data": {
      "text/plain": [
       "flight_day\n",
       "2    8098\n",
       "3    7672\n",
       "4    7671\n",
       "5    7421\n",
       "6    6759\n",
       "1    6551\n",
       "7    5808\n",
       "Name: count, dtype: int64"
      ]
     },
     "execution_count": 60,
     "metadata": {},
     "output_type": "execute_result"
    }
   ],
   "source": [
    "df.flight_day.value_counts()"
   ]
  },
  {
   "cell_type": "markdown",
   "id": "85294775",
   "metadata": {},
   "source": [
    "Monday was the most preferred day of flight for customers whereas Saturday turned out to be the least. It would be interesting to figure out how many of these bookings were completed."
   ]
  },
  {
   "cell_type": "code",
   "execution_count": 76,
   "id": "82bcf35d",
   "metadata": {},
   "outputs": [
    {
     "data": {
      "text/plain": [
       "booking_complete\n",
       "0    42505\n",
       "1     7475\n",
       "Name: count, dtype: int64"
      ]
     },
     "execution_count": 76,
     "metadata": {},
     "output_type": "execute_result"
    }
   ],
   "source": [
    "# total number of complete booking in our dataset\n",
    "df[df[\"flight_day\"]<=7].booking_complete.value_counts()"
   ]
  },
  {
   "cell_type": "code",
   "execution_count": 78,
   "id": "6d278ff1",
   "metadata": {},
   "outputs": [
    {
     "name": "stdout",
     "output_type": "stream",
     "text": [
      "                  Day_1_Complete  Day_2_Complete  Day_3_Complete  \\\n",
      "booking_complete                                                   \n",
      "0                           5625            6895            6543   \n",
      "1                            926            1203            1129   \n",
      "\n",
      "                  Day_4_Complete  Day_5_Complete  Day_6_Complete  \\\n",
      "booking_complete                                                   \n",
      "0                           6420            6299            5776   \n",
      "1                           1251            1122             983   \n",
      "\n",
      "                  Day_7_Complete  \n",
      "booking_complete                  \n",
      "0                           4947  \n",
      "1                            861  \n"
     ]
    }
   ],
   "source": [
    "# count the number of complete booking on each day\n",
    "def count_complete_bookings_by_day(df, day_range):\n",
    "    \n",
    "    # Initialize an empty DataFrame to store the results\n",
    "    result_df = pd.DataFrame()\n",
    "\n",
    "    # Iterate through each day in the day_range\n",
    "    for day in day_range:\n",
    "        # Filter the DataFrame for bookings on the current day\n",
    "        day_data = df[df[\"flight_day\"] == day]\n",
    "        \n",
    "        # Calculate the count of complete bookings and add it to the result DataFrame\n",
    "        day_count = day_data[\"booking_complete\"].value_counts()\n",
    "        result_df[f'Day_{day}_Complete'] = day_count\n",
    "\n",
    "    return result_df\n",
    "\n",
    "day_range = range(1, 8)  # Days 1 to 7\n",
    "result_df = count_complete_bookings_by_day(df, day_range)\n",
    "print(result_df)\n"
   ]
  },
  {
   "cell_type": "markdown",
   "id": "2a44908c",
   "metadata": {},
   "source": [
    "It can be observed that Wednesday had a lot of complete bookings. That is to say that most customers like to travel on midweek."
   ]
  },
  {
   "cell_type": "markdown",
   "id": "cbede8cd",
   "metadata": {},
   "source": [
    "### Booking Origin"
   ]
  },
  {
   "cell_type": "code",
   "execution_count": 79,
   "id": "9386bc39",
   "metadata": {},
   "outputs": [
    {
     "data": {
      "text/plain": [
       "Text(0, 0.5, 'Number of Booking Applications')"
      ]
     },
     "execution_count": 79,
     "metadata": {},
     "output_type": "execute_result"
    },
    {
     "data": {
      "image/png": "[encoded data removed]",
      "text/plain": [
       "<Figure size 1500x500 with 1 Axes>"
      ]
     },
     "metadata": {},
     "output_type": "display_data"
    }
   ],
   "source": [
    "# identify the country with the most booking applications\n",
    "plt.figure(figsize=(15,5))\n",
    "ax = df.booking_origin.value_counts()[:20].plot(kind=\"bar\")\n",
    "ax.set_xlabel(\"Countries\")\n",
    "ax.set_ylabel(\"Number of Booking Applications\")"
   ]
  },
  {
   "cell_type": "markdown",
   "id": "e9b8cefa",
   "metadata": {},
   "source": [
    "It can be observed that a lot of the booking applications came from Australia followed by Malaysia whiles Cambodia records the least. We would like to investigate the number of complete bookings that came from these countries."
   ]
  },
  {
   "cell_type": "code",
   "execution_count": 75,
   "id": "fce2c6ac",
   "metadata": {},
   "outputs": [
    {
     "data": {
      "text/plain": [
       "Text(0, 0.5, 'Number of complete bookings')"
      ]
     },
     "execution_count": 75,
     "metadata": {},
     "output_type": "execute_result"
    },
    {
     "data": {
      "image/png": "[encoded data removed]",
      "text/plain": [
       "<Figure size 1500x500 with 1 Axes>"
      ]
     },
     "metadata": {},
     "output_type": "display_data"
    }
   ],
   "source": [
    "# identify the country with the most complete bookings\n",
    "plt.figure(figsize=(15,5))\n",
    "ax = df[df.booking_complete ==1].booking_origin.value_counts()[:20].plot(kind=\"bar\")\n",
    "ax.set_xlabel(\"Countries\")\n",
    "ax.set_ylabel(\"Number of complete bookings\")"
   ]
  },
  {
   "cell_type": "markdown",
   "id": "88837295",
   "metadata": {},
   "source": [
    "Malaysia turned out to be the country with the most complete bookings followed by Australia whiles the United Kingdom had the least complete bookings. "
   ]
  },
  {
   "cell_type": "markdown",
   "id": "4b57e875",
   "metadata": {},
   "source": [
    "### Booking complete"
   ]
  },
  {
   "cell_type": "code",
   "execution_count": 82,
   "id": "53cdcd27",
   "metadata": {},
   "outputs": [
    {
     "name": "stdout",
     "output_type": "stream",
     "text": [
      "Out of 49980 booking entries only 14.96 % bookings were completed.\n"
     ]
    }
   ],
   "source": [
    "# find the complete booking percentage\n",
    "complete_booking_percentage = df.booking_complete.value_counts().values[1] / len(df) * 100\n",
    "print(f\"Out of {len(df)} booking entries only {round(unsuccessful_booking_per,2)} % bookings were completed.\")"
   ]
  },
  {
   "cell_type": "markdown",
   "id": "83b8401b",
   "metadata": {},
   "source": [
    "## Export the dataset to csv\n",
    "\n"
   ]
  },
  {
   "cell_type": "code",
   "execution_count": 83,
   "id": "741677ba",
   "metadata": {},
   "outputs": [],
   "source": [
    "df.to_csv(cwd + \"/explored_customer_booking.csv\")"
   ]
  },
  {
   "cell_type": "code",
   "execution_count": null,
   "id": "5116247b",
   "metadata": {},
   "outputs": [],
   "source": []
  }
 ],
 "metadata": {
  "kernelspec": {
   "display_name": "Python 3 (ipykernel)",
   "language": "python",
   "name": "python3"
  },
  "language_info": {
   "codemirror_mode": {
    "name": "ipython",
    "version": 3
   },
   "file_extension": ".py",
   "mimetype": "text/x-python",
   "name": "python",
   "nbconvert_exporter": "python",
   "pygments_lexer": "ipython3",
   "version": "3.9.13"
  }
 },
 "nbformat": 4,
 "nbformat_minor": 5
}
