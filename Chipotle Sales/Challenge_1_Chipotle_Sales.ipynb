{
 "cells": [
  {
   "cell_type": "markdown",
   "id": "d491fe65",
   "metadata": {},
   "source": [
    "# Challenge 1: Chipotle Sales"
   ]
  },
  {
   "cell_type": "markdown",
   "id": "4b716b9c",
   "metadata": {},
   "source": [
    "### Scenario: You are a financial data analyst at Chipotle and your manager has tasked you with analyzing the most recent sales numbers. She has provided the following set of questions she would like answered."
   ]
  },
  {
   "cell_type": "code",
   "execution_count": 145,
   "id": "ab720fef",
   "metadata": {},
   "outputs": [],
   "source": [
    "# import libraries/packages\n",
    "import pandas as pd\n",
    "import numpy as np\n",
    "import seaborn as sns\n",
    "import matplotlib.pyplot as plt"
   ]
  },
  {
   "cell_type": "code",
   "execution_count": 146,
   "id": "20c243e6",
   "metadata": {},
   "outputs": [
    {
     "data": {
      "text/html": [
       "<div>\n",
       "<style scoped>\n",
       "    .dataframe tbody tr th:only-of-type {\n",
       "        vertical-align: middle;\n",
       "    }\n",
       "\n",
       "    .dataframe tbody tr th {\n",
       "        vertical-align: top;\n",
       "    }\n",
       "\n",
       "    .dataframe thead th {\n",
       "        text-align: right;\n",
       "    }\n",
       "</style>\n",
       "<table border=\"1\" class=\"dataframe\">\n",
       "  <thead>\n",
       "    <tr style=\"text-align: right;\">\n",
       "      <th></th>\n",
       "      <th>order_id</th>\n",
       "      <th>quantity</th>\n",
       "      <th>item_name</th>\n",
       "      <th>choice_description</th>\n",
       "      <th>item_price</th>\n",
       "    </tr>\n",
       "  </thead>\n",
       "  <tbody>\n",
       "    <tr>\n",
       "      <th>0</th>\n",
       "      <td>1</td>\n",
       "      <td>1</td>\n",
       "      <td>Chips and Fresh Tomato Salsa</td>\n",
       "      <td>NaN</td>\n",
       "      <td>$2.39</td>\n",
       "    </tr>\n",
       "    <tr>\n",
       "      <th>1</th>\n",
       "      <td>1</td>\n",
       "      <td>1</td>\n",
       "      <td>Izze</td>\n",
       "      <td>[Clementine]</td>\n",
       "      <td>$3.39</td>\n",
       "    </tr>\n",
       "    <tr>\n",
       "      <th>2</th>\n",
       "      <td>1</td>\n",
       "      <td>1</td>\n",
       "      <td>Nantucket Nectar</td>\n",
       "      <td>[Apple]</td>\n",
       "      <td>$3.39</td>\n",
       "    </tr>\n",
       "    <tr>\n",
       "      <th>3</th>\n",
       "      <td>1</td>\n",
       "      <td>1</td>\n",
       "      <td>Chips and Tomatillo-Green Chili Salsa</td>\n",
       "      <td>NaN</td>\n",
       "      <td>$2.39</td>\n",
       "    </tr>\n",
       "    <tr>\n",
       "      <th>4</th>\n",
       "      <td>2</td>\n",
       "      <td>2</td>\n",
       "      <td>Chicken Bowl</td>\n",
       "      <td>[Tomatillo-Red Chili Salsa (Hot), [Black Beans...</td>\n",
       "      <td>$16.98</td>\n",
       "    </tr>\n",
       "  </tbody>\n",
       "</table>\n",
       "</div>"
      ],
      "text/plain": [
       "   order_id  quantity                              item_name  \\\n",
       "0         1         1           Chips and Fresh Tomato Salsa   \n",
       "1         1         1                                   Izze   \n",
       "2         1         1                       Nantucket Nectar   \n",
       "3         1         1  Chips and Tomatillo-Green Chili Salsa   \n",
       "4         2         2                           Chicken Bowl   \n",
       "\n",
       "                                  choice_description item_price  \n",
       "0                                                NaN     $2.39   \n",
       "1                                       [Clementine]     $3.39   \n",
       "2                                            [Apple]     $3.39   \n",
       "3                                                NaN     $2.39   \n",
       "4  [Tomatillo-Red Chili Salsa (Hot), [Black Beans...    $16.98   "
      ]
     },
     "execution_count": 146,
     "metadata": {},
     "output_type": "execute_result"
    }
   ],
   "source": [
    "# Get dataset\n",
    "url = 'https://raw.githubusercontent.com/justmarkham/DAT8/master/data/chipotle.tsv'\n",
    "chipo = pd.read_csv(url, sep='\\t')\n",
    "chipo.head()"
   ]
  },
  {
   "cell_type": "code",
   "execution_count": 147,
   "id": "35463bca",
   "metadata": {},
   "outputs": [
    {
     "name": "stdout",
     "output_type": "stream",
     "text": [
      "<class 'pandas.core.frame.DataFrame'>\n",
      "RangeIndex: 4622 entries, 0 to 4621\n",
      "Data columns (total 5 columns):\n",
      " #   Column              Non-Null Count  Dtype \n",
      "---  ------              --------------  ----- \n",
      " 0   order_id            4622 non-null   int64 \n",
      " 1   quantity            4622 non-null   int64 \n",
      " 2   item_name           4622 non-null   object\n",
      " 3   choice_description  3376 non-null   object\n",
      " 4   item_price          4622 non-null   object\n",
      "dtypes: int64(2), object(3)\n",
      "memory usage: 180.7+ KB\n"
     ]
    }
   ],
   "source": [
    "chipo.info()"
   ]
  },
  {
   "cell_type": "markdown",
   "id": "18dab61a",
   "metadata": {},
   "source": [
    "### 1. Which was the most-ordered item?"
   ]
  },
  {
   "cell_type": "code",
   "execution_count": 148,
   "id": "657964cf",
   "metadata": {},
   "outputs": [
    {
     "name": "stdout",
     "output_type": "stream",
     "text": [
      "The most ordered item is Chicken Bowl\n"
     ]
    }
   ],
   "source": [
    "# 1. Which was the most-ordered item?\n",
    "q1_1 = chipo.groupby('item_name')['quantity']\n",
    "most_ordered = q1_1.sum().idxmax()\n",
    "print('The most ordered item is', most_ordered)"
   ]
  },
  {
   "cell_type": "markdown",
   "id": "7c22704f",
   "metadata": {},
   "source": [
    "### 2. For the most-ordered item, how many items were ordered?"
   ]
  },
  {
   "cell_type": "code",
   "execution_count": 149,
   "id": "dcff2e18",
   "metadata": {},
   "outputs": [
    {
     "name": "stdout",
     "output_type": "stream",
     "text": [
      "For the most-ordered item, the total number ordered was 761\n"
     ]
    }
   ],
   "source": [
    "# 2. For the most-ordered item, how many items were ordered?\n",
    "q2 = q1_1.sum().sort_values(ascending=False)\n",
    "num_of_times_ordered = q2.max()\n",
    "print('For the most-ordered item, the total number ordered was', num_of_times_ordered)"
   ]
  },
  {
   "cell_type": "markdown",
   "id": "295ddd6e",
   "metadata": {},
   "source": [
    "### 3. What was the most ordered item in the choice_description column?"
   ]
  },
  {
   "cell_type": "code",
   "execution_count": 150,
   "id": "78998b6c",
   "metadata": {},
   "outputs": [
    {
     "name": "stdout",
     "output_type": "stream",
     "text": [
      "The most ordered item in choice_description is Diet Coke\n"
     ]
    }
   ],
   "source": [
    "# 3. What was the most ordered item in the choice_description column?\n",
    "# create an empty array choice_item\n",
    "choice_item= []\n",
    "\n",
    "# create a for loop that removes the square bracket ([]) from the items in choice_description and adds them to choice_item\n",
    "for i in chipo['choice_description']:\n",
    "    if type(i) == str:\n",
    "        choice_item.append(i.replace('[','').replace(']',''))\n",
    "\n",
    "# replace the choice_description column in chipo with choice_item\n",
    "choice = pd.Series(choice_item)\n",
    "chipo['choice_description'] = choice\n",
    "\n",
    "# Answer question 3\n",
    "q3_1 = chipo.groupby('choice_description')['quantity'].sum().sort_values(ascending=False)\n",
    "most_ordered_item = q3_1.idxmax()\n",
    "print('The most ordered item in choice_description is', most_ordered_item)"
   ]
  },
  {
   "cell_type": "markdown",
   "id": "8bebdaf4",
   "metadata": {},
   "source": [
    "### 4. How many items were ordered in total?"
   ]
  },
  {
   "cell_type": "code",
   "execution_count": 151,
   "id": "cf49b933",
   "metadata": {},
   "outputs": [
    {
     "name": "stdout",
     "output_type": "stream",
     "text": [
      "Total number of items ordered is 4972\n"
     ]
    }
   ],
   "source": [
    "# 4. How many items were ordered in total?\n",
    "total_ordered = chipo.quantity.sum()\n",
    "print('Total number of items ordered is', total_ordered)"
   ]
  },
  {
   "cell_type": "markdown",
   "id": "0d663594",
   "metadata": {},
   "source": [
    "### 5. Turn the item price into a float?"
   ]
  },
  {
   "cell_type": "code",
   "execution_count": 152,
   "id": "87a90d68",
   "metadata": {},
   "outputs": [
    {
     "name": "stdout",
     "output_type": "stream",
     "text": [
      "object\n"
     ]
    }
   ],
   "source": [
    "# check the initial data type of the item_price\n",
    "type_change = chipo.item_price.dtype\n",
    "print(type_change)"
   ]
  },
  {
   "cell_type": "code",
   "execution_count": 153,
   "id": "059b9633",
   "metadata": {},
   "outputs": [
    {
     "name": "stdout",
     "output_type": "stream",
     "text": [
      "float64\n"
     ]
    }
   ],
   "source": [
    "# change the data type to float if it isn't already\n",
    "chipo.item_price = chipo.item_price.str.replace('$','', regex=False).astype(float)\n",
    "print(chipo.item_price.dtype)"
   ]
  },
  {
   "cell_type": "markdown",
   "id": "8fdc0c64",
   "metadata": {},
   "source": [
    "### 6. How much was the revenue for the period in the dataset?"
   ]
  },
  {
   "cell_type": "code",
   "execution_count": 158,
   "id": "03eba57a",
   "metadata": {},
   "outputs": [
    {
     "name": "stdout",
     "output_type": "stream",
     "text": [
      "The revenue for the period in the dataset is $39237.02\n"
     ]
    }
   ],
   "source": [
    "# 6. How much was the revenue for the period in the dataset?\n",
    "chipo['revenue'] = chipo['quantity'] * chipo['item_price']\n",
    "print('The revenue for the period in the dataset is','$' + str(chipo.revenue.sum()))"
   ]
  },
  {
   "cell_type": "markdown",
   "id": "653b3cb6",
   "metadata": {},
   "source": [
    "### 7. How many orders were made in the period?"
   ]
  },
  {
   "cell_type": "code",
   "execution_count": 159,
   "id": "bf262414",
   "metadata": {},
   "outputs": [
    {
     "name": "stdout",
     "output_type": "stream",
     "text": [
      "Number of orders made in the period is 1834\n"
     ]
    }
   ],
   "source": [
    "# 7. How many orders were made in the period?\n",
    "orders = len(chipo.order_id.unique())\n",
    "print('Number of orders made in the period is', orders)"
   ]
  },
  {
   "cell_type": "markdown",
   "id": "4c5cac1b",
   "metadata": {},
   "source": [
    "### 8. What is the average revenue amount per order?"
   ]
  },
  {
   "cell_type": "code",
   "execution_count": 160,
   "id": "95f898d0",
   "metadata": {},
   "outputs": [
    {
     "name": "stdout",
     "output_type": "stream",
     "text": [
      "Average revenue amount is $21.39\n"
     ]
    }
   ],
   "source": [
    "# 8. What is the average revenue amount per order?\n",
    "average_revenue = round((chipo.revenue / orders).sum(), 2)\n",
    "print('Average revenue amount is', '$'+str(average_revenue))"
   ]
  },
  {
   "cell_type": "markdown",
   "id": "493fda87",
   "metadata": {},
   "source": [
    "### 9. How many different items are sold?"
   ]
  },
  {
   "cell_type": "code",
   "execution_count": 157,
   "id": "ff9b4177",
   "metadata": {},
   "outputs": [
    {
     "name": "stdout",
     "output_type": "stream",
     "text": [
      "50 different items were sold.\n"
     ]
    }
   ],
   "source": [
    "# 9. How many different items are sold?\n",
    "print(str(chipo.item_name.value_counts().count()) + ' different items were sold.')"
   ]
  },
  {
   "cell_type": "markdown",
   "id": "312a0749",
   "metadata": {},
   "source": [
    "Challenge completed!!!"
   ]
  }
 ],
 "metadata": {
  "kernelspec": {
   "display_name": "Python 3 (ipykernel)",
   "language": "python",
   "name": "python3"
  },
  "language_info": {
   "codemirror_mode": {
    "name": "ipython",
    "version": 3
   },
   "file_extension": ".py",
   "mimetype": "text/x-python",
   "name": "python",
   "nbconvert_exporter": "python",
   "pygments_lexer": "ipython3",
   "version": "3.9.13"
  }
 },
 "nbformat": 4,
 "nbformat_minor": 5
}
