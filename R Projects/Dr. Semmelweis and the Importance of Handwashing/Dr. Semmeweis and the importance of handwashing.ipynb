{
 "cells": [
  {
   "cell_type": "markdown",
   "id": "1a6e0e8d-ff92-4ff7-9578-d9372831d744",
   "metadata": {},
   "source": [
    "![Dr. Semmelweis](ignaz_semmelweis_1860.jpeg)"
   ]
  },
  {
   "cell_type": "markdown",
   "id": "c6f0256d-1a8c-4541-b0e2-16e1d0516d57",
   "metadata": {},
   "source": [
    "Hungarian physician Dr. Ignaz Semmelweis worked at the Vienna General Hospital with childbed fever patients. Childbed fever is a deadly disease affecting women who have just given birth, and in the early 1840s, as many as 10% of the women giving birth died from it at the Vienna General Hospital. Dr.Semmelweis discovered that it was the contaminated hands of the doctors delivering the babies, and on June 1st, 1847, he decreed that everyone should wash their hands, an unorthodox and controversial request; nobody in Vienna knew about bacteria.\n",
    "\n",
    "You will reanalyze the data that made Semmelweis discover the importance of handwashing and its impact on the hospital.\n",
    "\n",
    "The data is stored as two CSV files within the `data` folder.\n",
    "\n",
    "`yearly_deaths_by_clinic.csv` contains the number of women giving birth at the two clinics at the Vienna General Hospital between the years 1841 and 1846.\n",
    "\n",
    "| Column | Description |\n",
    "|--------|-------------|\n",
    "|`year`  |Years (1841-1846)|\n",
    "|`births`|Number of births|\n",
    "|`deaths`|Number of deaths|\n",
    "|`clinic`|Clinic 1 or clinic 2|\n",
    "\n",
    "`monthly_deaths.csv` contains data from 'Clinic 1' of the hospital where most deaths occurred.\n",
    "\n",
    "| Column | Description |\n",
    "|--------|-------------|\n",
    "|`date`|Date (YYYY-MM-DD)\n",
    "|`births`|Number of births|\n",
    "|`deaths`|Number of deaths|"
   ]
  },
  {
   "cell_type": "code",
   "execution_count": 1,
   "id": "88d878c1-28c8-405a-82fd-71fa59d628e3",
   "metadata": {
    "executionCancelledAt": null,
    "executionTime": 1244,
    "jupyter": {
     "outputs_hidden": false,
     "source_hidden": false
    },
    "lastExecutedAt": 1711656594767,
    "lastScheduledRunId": null,
    "lastSuccessfullyExecutedCode": "# Imported libraries\nlibrary(tidyverse)\n\n# Start coding here..\n\n# Load and inspect the data\n#yearly <- read_csv('C:/Users/JusticePC/Downloads/data/yearly_deaths_by_clinic.csv')\nyearly <- read_csv('data/yearly_deaths_by_clinic.csv')\nyearly\n\n#monthly <- read_csv(\"C:/Users/JusticePC/Downloads/data/monthly_deaths.csv\")\nmonthly <- read_csv('data/monthly_deaths.csv')\nmonthly\n\n# Add proportion_deaths to both data frames\nyearly <- yearly %>% \n  mutate(proportion_deaths = deaths / births)\n\nmonthly <- monthly %>% \n  mutate(proportion_deaths = deaths / births)\n\n# Plot the data\nggplot(yearly, aes(x = year, y = proportion_deaths)) +\n  geom_line(color = \"blue\") + labs(title = \"Yearly Proportion of Deaths\", x = \"Year\", y = \"Proportion Deaths\")\n\nggplot(monthly, aes(date, proportion_deaths)) +\n  geom_line(color = \"green\") +\n  labs(title = \"Monthly Proportion of Deaths\", x = \"Month\", y = \"Proportion Deaths\")\n\n# Add the threshold and flag and plot again\nhandwashing_start = as.Date('1847-06-01')\n\n# filtered_data <- monthly[monthly$Month > filter_date, ]\n\nmonthly <- monthly %>%\n  mutate(handwashing_started = date >= handwashing_start)\n\n\n# Split the monthly dataframe into two based on handwashing_started\nmonthly_started <- monthly %>%\n  filter(handwashing_started == TRUE)\n\nmonthly_not_started <- monthly %>%\n  filter(handwashing_started == FALSE)\n\n\n# Plot monthly proportion of deaths for both started and not started handwashing\nmonthly_plot_both <- ggplot() +\n  geom_line(data = monthly_started, aes(x = date, y = proportion_deaths, color = \"Handwashing Started\")) +\n  geom_line(data = monthly_not_started, aes(x = date, y = proportion_deaths, color = \"Handwashing Not Started\")) +\n  labs(title = \"Monthly Proportion of Deaths by Handwashing Status\",\n       x = \"Month\",\n       y = \"Proportion of Deaths\",\n       color = \"Handwashing Status\") +\n  scale_color_manual(values = c(\"Handwashing Started\" = \"blue\", \"Handwashing Not Started\" = \"red\"))\n\n# Show the plot\nprint(monthly_plot_both)\n\n\n\n#ggplot(monthly, aes(x = handwashing_started, y = proportion_deaths)) +\n#  geom_line() + scale_color_manual(values = c(\"TRUE\" = \"blue\", \"FALSE\" = \"red\"))\n\n# Find the mean\nmonthly_summary <- monthly %>% \n  group_by(handwashing_started) %>%\n  summarize(mean_proportion_deaths = mean(proportion_deaths))\n\nmonthly_summary\n\n\nreduction_in_death_rate <- monthly_summary$mean_proportion_deaths[monthly_summary$handwashing_started == 'FALSE'] -\n  monthly_summary$mean_proportion_deaths[monthly_summary$handwashing_started == 'TRUE']\n\nreduction_in_death_rate_percent = reduction_in_death_rate * 100\n\n# Print the result\nprint(paste(\"Handwashing reduced the monthly death rates by an average of\", round(reduction_in_death_rate_percent, 2), \"%\"))\n",
    "outputsMetadata": {
     "0": {
      "height": 177,
      "type": "stream"
     },
     "1": {
      "height": 323,
      "type": "dataFrame"
     },
     "2": {
      "height": 177,
      "type": "stream"
     },
     "3": {
      "height": 323,
      "type": "dataFrame"
     },
     "6": {
      "height": 123,
      "type": "dataFrame"
     },
     "7": {
      "height": 37,
      "type": "stream"
     }
    }
   },
   "outputs": [
    {
     "name": "stderr",
     "output_type": "stream",
     "text": [
      "── \u001b[1mAttaching core tidyverse packages\u001b[22m ──────────────────────────────────────────────────────────────── tidyverse 2.0.0 ──\n",
      "\u001b[32m✔\u001b[39m \u001b[34mdplyr    \u001b[39m 1.1.2     \u001b[32m✔\u001b[39m \u001b[34mreadr    \u001b[39m 2.1.4\n",
      "\u001b[32m✔\u001b[39m \u001b[34mforcats  \u001b[39m 1.0.0     \u001b[32m✔\u001b[39m \u001b[34mstringr  \u001b[39m 1.5.0\n",
      "\u001b[32m✔\u001b[39m \u001b[34mggplot2  \u001b[39m 3.4.2     \u001b[32m✔\u001b[39m \u001b[34mtibble   \u001b[39m 3.2.1\n",
      "\u001b[32m✔\u001b[39m \u001b[34mlubridate\u001b[39m 1.9.2     \u001b[32m✔\u001b[39m \u001b[34mtidyr    \u001b[39m 1.3.0\n",
      "\u001b[32m✔\u001b[39m \u001b[34mpurrr    \u001b[39m 1.0.1     \n",
      "── \u001b[1mConflicts\u001b[22m ────────────────────────────────────────────────────────────────────────────────── tidyverse_conflicts() ──\n",
      "\u001b[31m✖\u001b[39m \u001b[34mdplyr\u001b[39m::\u001b[32mfilter()\u001b[39m masks \u001b[34mstats\u001b[39m::filter()\n",
      "\u001b[31m✖\u001b[39m \u001b[34mdplyr\u001b[39m::\u001b[32mlag()\u001b[39m    masks \u001b[34mstats\u001b[39m::lag()\n",
      "\u001b[36mℹ\u001b[39m Use the conflicted package (\u001b[3m\u001b[34m<http://conflicted.r-lib.org/>\u001b[39m\u001b[23m) to force all conflicts to become errors\n",
      "\u001b[1mRows: \u001b[22m\u001b[34m12\u001b[39m \u001b[1mColumns: \u001b[22m\u001b[34m4\u001b[39m\n",
      "\u001b[36m──\u001b[39m \u001b[1mColumn specification\u001b[22m \u001b[36m────────────────────────────────────────────────────────────────────────────────────────────────\u001b[39m\n",
      "\u001b[1mDelimiter:\u001b[22m \",\"\n",
      "\u001b[31mchr\u001b[39m (1): clinic\n",
      "\u001b[32mdbl\u001b[39m (3): year, births, deaths\n",
      "\n",
      "\u001b[36mℹ\u001b[39m Use `spec()` to retrieve the full column specification for this data.\n",
      "\u001b[36mℹ\u001b[39m Specify the column types or set `show_col_types = FALSE` to quiet this message.\n"
     ]
    },
    {
     "data": {
      "text/html": [
       "<table class=\"dataframe\">\n",
       "<caption>A spec_tbl_df: 12 × 4</caption>\n",
       "<thead>\n",
       "\t<tr><th scope=col>year</th><th scope=col>births</th><th scope=col>deaths</th><th scope=col>clinic</th></tr>\n",
       "\t<tr><th scope=col>&lt;dbl&gt;</th><th scope=col>&lt;dbl&gt;</th><th scope=col>&lt;dbl&gt;</th><th scope=col>&lt;chr&gt;</th></tr>\n",
       "</thead>\n",
       "<tbody>\n",
       "\t<tr><td>1841</td><td>3036</td><td>237</td><td>clinic 1</td></tr>\n",
       "\t<tr><td>1842</td><td>3287</td><td>518</td><td>clinic 1</td></tr>\n",
       "\t<tr><td>1843</td><td>3060</td><td>274</td><td>clinic 1</td></tr>\n",
       "\t<tr><td>1844</td><td>3157</td><td>260</td><td>clinic 1</td></tr>\n",
       "\t<tr><td>1845</td><td>3492</td><td>241</td><td>clinic 1</td></tr>\n",
       "\t<tr><td>1846</td><td>4010</td><td>459</td><td>clinic 1</td></tr>\n",
       "\t<tr><td>1841</td><td>2442</td><td> 86</td><td>clinic 2</td></tr>\n",
       "\t<tr><td>1842</td><td>2659</td><td>202</td><td>clinic 2</td></tr>\n",
       "\t<tr><td>1843</td><td>2739</td><td>164</td><td>clinic 2</td></tr>\n",
       "\t<tr><td>1844</td><td>2956</td><td> 68</td><td>clinic 2</td></tr>\n",
       "\t<tr><td>1845</td><td>3241</td><td> 66</td><td>clinic 2</td></tr>\n",
       "\t<tr><td>1846</td><td>3754</td><td>105</td><td>clinic 2</td></tr>\n",
       "</tbody>\n",
       "</table>\n"
      ],
      "text/latex": [
       "A spec\\_tbl\\_df: 12 × 4\n",
       "\\begin{tabular}{llll}\n",
       " year & births & deaths & clinic\\\\\n",
       " <dbl> & <dbl> & <dbl> & <chr>\\\\\n",
       "\\hline\n",
       "\t 1841 & 3036 & 237 & clinic 1\\\\\n",
       "\t 1842 & 3287 & 518 & clinic 1\\\\\n",
       "\t 1843 & 3060 & 274 & clinic 1\\\\\n",
       "\t 1844 & 3157 & 260 & clinic 1\\\\\n",
       "\t 1845 & 3492 & 241 & clinic 1\\\\\n",
       "\t 1846 & 4010 & 459 & clinic 1\\\\\n",
       "\t 1841 & 2442 &  86 & clinic 2\\\\\n",
       "\t 1842 & 2659 & 202 & clinic 2\\\\\n",
       "\t 1843 & 2739 & 164 & clinic 2\\\\\n",
       "\t 1844 & 2956 &  68 & clinic 2\\\\\n",
       "\t 1845 & 3241 &  66 & clinic 2\\\\\n",
       "\t 1846 & 3754 & 105 & clinic 2\\\\\n",
       "\\end{tabular}\n"
      ],
      "text/markdown": [
       "\n",
       "A spec_tbl_df: 12 × 4\n",
       "\n",
       "| year &lt;dbl&gt; | births &lt;dbl&gt; | deaths &lt;dbl&gt; | clinic &lt;chr&gt; |\n",
       "|---|---|---|---|\n",
       "| 1841 | 3036 | 237 | clinic 1 |\n",
       "| 1842 | 3287 | 518 | clinic 1 |\n",
       "| 1843 | 3060 | 274 | clinic 1 |\n",
       "| 1844 | 3157 | 260 | clinic 1 |\n",
       "| 1845 | 3492 | 241 | clinic 1 |\n",
       "| 1846 | 4010 | 459 | clinic 1 |\n",
       "| 1841 | 2442 |  86 | clinic 2 |\n",
       "| 1842 | 2659 | 202 | clinic 2 |\n",
       "| 1843 | 2739 | 164 | clinic 2 |\n",
       "| 1844 | 2956 |  68 | clinic 2 |\n",
       "| 1845 | 3241 |  66 | clinic 2 |\n",
       "| 1846 | 3754 | 105 | clinic 2 |\n",
       "\n"
      ],
      "text/plain": [
       "   year births deaths clinic  \n",
       "1  1841 3036   237    clinic 1\n",
       "2  1842 3287   518    clinic 1\n",
       "3  1843 3060   274    clinic 1\n",
       "4  1844 3157   260    clinic 1\n",
       "5  1845 3492   241    clinic 1\n",
       "6  1846 4010   459    clinic 1\n",
       "7  1841 2442    86    clinic 2\n",
       "8  1842 2659   202    clinic 2\n",
       "9  1843 2739   164    clinic 2\n",
       "10 1844 2956    68    clinic 2\n",
       "11 1845 3241    66    clinic 2\n",
       "12 1846 3754   105    clinic 2"
      ]
     },
     "metadata": {},
     "output_type": "display_data"
    }
   ],
   "source": [
    "# Imported libraries\n",
    "library(tidyverse)\n",
    "\n",
    "# Start coding here..\n",
    "\n",
    "# Load and inspect the data\n",
    "#yearly <- read_csv('C:/Users/JusticePC/Downloads/data/yearly_deaths_by_clinic.csv')\n",
    "yearly <- read_csv('data/yearly_deaths_by_clinic.csv')\n",
    "yearly"
   ]
  },
  {
   "cell_type": "code",
   "execution_count": 6,
   "id": "be9ed564",
   "metadata": {},
   "outputs": [
    {
     "name": "stderr",
     "output_type": "stream",
     "text": [
      "\u001b[1mRows: \u001b[22m\u001b[34m98\u001b[39m \u001b[1mColumns: \u001b[22m\u001b[34m3\u001b[39m\n",
      "\u001b[36m──\u001b[39m \u001b[1mColumn specification\u001b[22m \u001b[36m────────────────────────────────────────────────────────────────────────────────────────────────\u001b[39m\n",
      "\u001b[1mDelimiter:\u001b[22m \",\"\n",
      "\u001b[32mdbl\u001b[39m  (2): births, deaths\n",
      "\u001b[34mdate\u001b[39m (1): date\n",
      "\n",
      "\u001b[36mℹ\u001b[39m Use `spec()` to retrieve the full column specification for this data.\n",
      "\u001b[36mℹ\u001b[39m Specify the column types or set `show_col_types = FALSE` to quiet this message.\n"
     ]
    },
    {
     "data": {
      "text/html": [
       "<table class=\"dataframe\">\n",
       "<caption>A tibble: 6 × 3</caption>\n",
       "<thead>\n",
       "\t<tr><th scope=col>date</th><th scope=col>births</th><th scope=col>deaths</th></tr>\n",
       "\t<tr><th scope=col>&lt;date&gt;</th><th scope=col>&lt;dbl&gt;</th><th scope=col>&lt;dbl&gt;</th></tr>\n",
       "</thead>\n",
       "<tbody>\n",
       "\t<tr><td>1841-01-01</td><td>254</td><td>37</td></tr>\n",
       "\t<tr><td>1841-02-01</td><td>239</td><td>18</td></tr>\n",
       "\t<tr><td>1841-03-01</td><td>277</td><td>12</td></tr>\n",
       "\t<tr><td>1841-04-01</td><td>255</td><td> 4</td></tr>\n",
       "\t<tr><td>1841-05-01</td><td>255</td><td> 2</td></tr>\n",
       "\t<tr><td>1841-06-01</td><td>200</td><td>10</td></tr>\n",
       "</tbody>\n",
       "</table>\n"
      ],
      "text/latex": [
       "A tibble: 6 × 3\n",
       "\\begin{tabular}{lll}\n",
       " date & births & deaths\\\\\n",
       " <date> & <dbl> & <dbl>\\\\\n",
       "\\hline\n",
       "\t 1841-01-01 & 254 & 37\\\\\n",
       "\t 1841-02-01 & 239 & 18\\\\\n",
       "\t 1841-03-01 & 277 & 12\\\\\n",
       "\t 1841-04-01 & 255 &  4\\\\\n",
       "\t 1841-05-01 & 255 &  2\\\\\n",
       "\t 1841-06-01 & 200 & 10\\\\\n",
       "\\end{tabular}\n"
      ],
      "text/markdown": [
       "\n",
       "A tibble: 6 × 3\n",
       "\n",
       "| date &lt;date&gt; | births &lt;dbl&gt; | deaths &lt;dbl&gt; |\n",
       "|---|---|---|\n",
       "| 1841-01-01 | 254 | 37 |\n",
       "| 1841-02-01 | 239 | 18 |\n",
       "| 1841-03-01 | 277 | 12 |\n",
       "| 1841-04-01 | 255 |  4 |\n",
       "| 1841-05-01 | 255 |  2 |\n",
       "| 1841-06-01 | 200 | 10 |\n",
       "\n"
      ],
      "text/plain": [
       "  date       births deaths\n",
       "1 1841-01-01 254    37    \n",
       "2 1841-02-01 239    18    \n",
       "3 1841-03-01 277    12    \n",
       "4 1841-04-01 255     4    \n",
       "5 1841-05-01 255     2    \n",
       "6 1841-06-01 200    10    "
      ]
     },
     "metadata": {},
     "output_type": "display_data"
    }
   ],
   "source": [
    "#monthly <- read_csv(\"C:/Users/JusticePC/Downloads/data/monthly_deaths.csv\")\n",
    "monthly <- read_csv('data/monthly_deaths.csv')\n",
    "head(monthly)"
   ]
  },
  {
   "cell_type": "code",
   "execution_count": 7,
   "id": "7df6e16d",
   "metadata": {},
   "outputs": [
    {
     "data": {
      "image/png": "[encoded data removed]",
      "text/plain": [
       "plot without title"
      ]
     },
     "metadata": {
      "image/png": {
       "height": 420,
       "width": 420
      }
     },
     "output_type": "display_data"
    },
    {
     "data": {
      "image/png": "[encoded data removed]",
      "text/plain": [
       "plot without title"
      ]
     },
     "metadata": {
      "image/png": {
       "height": 420,
       "width": 420
      }
     },
     "output_type": "display_data"
    }
   ],
   "source": [
    "# Add proportion_deaths to both data frames\n",
    "yearly <- yearly %>% \n",
    "  mutate(proportion_deaths = deaths / births)\n",
    "\n",
    "monthly <- monthly %>% \n",
    "  mutate(proportion_deaths = deaths / births)\n",
    "\n",
    "# Plot the data\n",
    "ggplot(yearly, aes(x = year, y = proportion_deaths)) +\n",
    "  geom_line(color = \"blue\") + labs(title = \"Yearly Proportion of Deaths\", x = \"Year\", y = \"Proportion Deaths\")\n",
    "\n",
    "ggplot(monthly, aes(date, proportion_deaths)) +\n",
    "  geom_line(color = \"green\") +\n",
    "  labs(title = \"Monthly Proportion of Deaths\", x = \"Month\", y = \"Proportion Deaths\")"
   ]
  },
  {
   "cell_type": "code",
   "execution_count": 8,
   "id": "d746a382",
   "metadata": {},
   "outputs": [
    {
     "data": {
      "image/png": "[encoded data removed]",
      "text/plain": [
       "plot without title"
      ]
     },
     "metadata": {
      "image/png": {
       "height": 420,
       "width": 420
      }
     },
     "output_type": "display_data"
    }
   ],
   "source": [
    "# Add the threshold and flag and plot again\n",
    "handwashing_start = as.Date('1847-06-01')\n",
    "\n",
    "# filtered_data <- monthly[monthly$Month > filter_date, ]\n",
    "\n",
    "monthly <- monthly %>%\n",
    "  mutate(handwashing_started = date >= handwashing_start)\n",
    "\n",
    "\n",
    "# Split the monthly dataframe into two based on handwashing_started\n",
    "monthly_started <- monthly %>%\n",
    "  filter(handwashing_started == TRUE)\n",
    "\n",
    "monthly_not_started <- monthly %>%\n",
    "  filter(handwashing_started == FALSE)\n",
    "\n",
    "\n",
    "# Plot monthly proportion of deaths for both started and not started handwashing\n",
    "monthly_plot_both <- ggplot() +\n",
    "  geom_line(data = monthly_started, aes(x = date, y = proportion_deaths, color = \"Handwashing Started\")) +\n",
    "  geom_line(data = monthly_not_started, aes(x = date, y = proportion_deaths, color = \"Handwashing Not Started\")) +\n",
    "  labs(title = \"Monthly Proportion of Deaths by Handwashing Status\",\n",
    "       x = \"Month\",\n",
    "       y = \"Proportion of Deaths\",\n",
    "       color = \"Handwashing Status\") +\n",
    "  scale_color_manual(values = c(\"Handwashing Started\" = \"blue\", \"Handwashing Not Started\" = \"red\"))\n",
    "\n",
    "# Show the plot\n",
    "print(monthly_plot_both)\n",
    "\n",
    "\n",
    "\n",
    "#ggplot(monthly, aes(x = handwashing_started, y = proportion_deaths)) +\n",
    "#  geom_line() + scale_color_manual(values = c(\"TRUE\" = \"blue\", \"FALSE\" = \"red\"))"
   ]
  },
  {
   "cell_type": "code",
   "execution_count": 9,
   "id": "b5e75f04",
   "metadata": {},
   "outputs": [
    {
     "data": {
      "text/html": [
       "<table class=\"dataframe\">\n",
       "<caption>A tibble: 2 × 2</caption>\n",
       "<thead>\n",
       "\t<tr><th scope=col>handwashing_started</th><th scope=col>mean_proportion_deaths</th></tr>\n",
       "\t<tr><th scope=col>&lt;lgl&gt;</th><th scope=col>&lt;dbl&gt;</th></tr>\n",
       "</thead>\n",
       "<tbody>\n",
       "\t<tr><td>FALSE</td><td>0.10504998</td></tr>\n",
       "\t<tr><td> TRUE</td><td>0.02109338</td></tr>\n",
       "</tbody>\n",
       "</table>\n"
      ],
      "text/latex": [
       "A tibble: 2 × 2\n",
       "\\begin{tabular}{ll}\n",
       " handwashing\\_started & mean\\_proportion\\_deaths\\\\\n",
       " <lgl> & <dbl>\\\\\n",
       "\\hline\n",
       "\t FALSE & 0.10504998\\\\\n",
       "\t  TRUE & 0.02109338\\\\\n",
       "\\end{tabular}\n"
      ],
      "text/markdown": [
       "\n",
       "A tibble: 2 × 2\n",
       "\n",
       "| handwashing_started &lt;lgl&gt; | mean_proportion_deaths &lt;dbl&gt; |\n",
       "|---|---|\n",
       "| FALSE | 0.10504998 |\n",
       "|  TRUE | 0.02109338 |\n",
       "\n"
      ],
      "text/plain": [
       "  handwashing_started mean_proportion_deaths\n",
       "1 FALSE               0.10504998            \n",
       "2  TRUE               0.02109338            "
      ]
     },
     "metadata": {},
     "output_type": "display_data"
    }
   ],
   "source": [
    "# Find the mean\n",
    "monthly_summary <- monthly %>% \n",
    "  group_by(handwashing_started) %>%\n",
    "  summarize(mean_proportion_deaths = mean(proportion_deaths))\n",
    "\n",
    "monthly_summary"
   ]
  },
  {
   "cell_type": "code",
   "execution_count": 10,
   "id": "7e547ec0",
   "metadata": {},
   "outputs": [
    {
     "name": "stdout",
     "output_type": "stream",
     "text": [
      "[1] \"Handwashing reduced the monthly death rates by an average of 8.4 %\"\n"
     ]
    }
   ],
   "source": [
    "# by what percentage did washing of hands reduced mortality\n",
    "reduction_in_death_rate <- monthly_summary$mean_proportion_deaths[monthly_summary$handwashing_started == 'FALSE'] -\n",
    "  monthly_summary$mean_proportion_deaths[monthly_summary$handwashing_started == 'TRUE']\n",
    "\n",
    "reduction_in_death_rate_percent = reduction_in_death_rate * 100\n",
    "\n",
    "# Print the result\n",
    "print(paste(\"Handwashing reduced the monthly death rates by an average of\", round(reduction_in_death_rate_percent, 2), \"%\"))"
   ]
  },
  {
   "cell_type": "code",
   "execution_count": null,
   "id": "f7fa5799",
   "metadata": {},
   "outputs": [],
   "source": []
  }
 ],
 "metadata": {
  "colab": {
   "name": "Welcome to DataCamp Workspaces.ipynb",
   "provenance": []
  },
  "editor": "DataCamp Workspace",
  "kernelspec": {
   "display_name": "R",
   "language": "R",
   "name": "ir"
  },
  "language_info": {
   "codemirror_mode": "r",
   "file_extension": ".r",
   "mimetype": "text/x-r-source",
   "name": "R",
   "pygments_lexer": "r",
   "version": "4.2.3"
  }
 },
 "nbformat": 4,
 "nbformat_minor": 5
}
