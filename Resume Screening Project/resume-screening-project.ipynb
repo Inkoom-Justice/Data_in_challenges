{
 "cells": [
  {
   "cell_type": "markdown",
   "metadata": {
    "id": "7JSDCvU2PhwE"
   },
   "source": [
    "#Download Dataset from Google Drive"
   ]
  },
  {
   "cell_type": "markdown",
   "metadata": {
    "id": "nRzQ6aZ7SVPo"
   },
   "source": [
    "# Library import"
   ]
  },
  {
   "cell_type": "code",
   "execution_count": 77,
   "metadata": {
    "execution": {
     "iopub.execute_input": "2024-03-30T11:12:08.422822Z",
     "iopub.status.busy": "2024-03-30T11:12:08.421997Z",
     "iopub.status.idle": "2024-03-30T11:12:08.46566Z",
     "shell.execute_reply": "2024-03-30T11:12:08.464436Z",
     "shell.execute_reply.started": "2024-03-30T11:12:08.422747Z"
    },
    "id": "pBcBm5ZuF6_b"
   },
   "outputs": [],
   "source": [
    "# import libraries\n",
    "import os\n",
    "import zipfile\n",
    "import pandas as pd\n",
    "import numpy as np\n",
    "import matplotlib.pyplot as plt\n",
    "import seaborn as sns"
   ]
  },
  {
   "cell_type": "markdown",
   "metadata": {
    "id": "e4sYLTXuCeXO"
   },
   "source": [
    "# Dataset URL"
   ]
  },
  {
   "cell_type": "markdown",
   "metadata": {
    "id": "-Td6ojPuSfXs"
   },
   "source": [
    "# Read Dataset"
   ]
  },
  {
   "cell_type": "code",
   "execution_count": 79,
   "metadata": {
    "execution": {
     "iopub.execute_input": "2024-03-30T11:12:13.72011Z",
     "iopub.status.busy": "2024-03-30T11:12:13.719451Z",
     "iopub.status.idle": "2024-03-30T11:12:13.812254Z",
     "shell.execute_reply": "2024-03-30T11:12:13.810964Z",
     "shell.execute_reply.started": "2024-03-30T11:12:13.720067Z"
    },
    "id": "AAhlstlsLlAA",
    "scrolled": true
   },
   "outputs": [],
   "source": [
    "df = pd.read_csv(\"UpdatedResumeDataSet.csv\")"
   ]
  },
  {
   "cell_type": "code",
   "execution_count": 80,
   "metadata": {
    "execution": {
     "iopub.execute_input": "2024-03-30T11:12:17.93826Z",
     "iopub.status.busy": "2024-03-30T11:12:17.937483Z",
     "iopub.status.idle": "2024-03-30T11:12:17.956107Z",
     "shell.execute_reply": "2024-03-30T11:12:17.955181Z",
     "shell.execute_reply.started": "2024-03-30T11:12:17.938206Z"
    },
    "id": "DhDVk8xoMGN4",
    "outputId": "fa87adbe-1a84-43ac-be55-01f4c8912363"
   },
   "outputs": [
    {
     "data": {
      "text/html": [
       "<div>\n",
       "<style scoped>\n",
       "    .dataframe tbody tr th:only-of-type {\n",
       "        vertical-align: middle;\n",
       "    }\n",
       "\n",
       "    .dataframe tbody tr th {\n",
       "        vertical-align: top;\n",
       "    }\n",
       "\n",
       "    .dataframe thead th {\n",
       "        text-align: right;\n",
       "    }\n",
       "</style>\n",
       "<table border=\"1\" class=\"dataframe\">\n",
       "  <thead>\n",
       "    <tr style=\"text-align: right;\">\n",
       "      <th></th>\n",
       "      <th>Category</th>\n",
       "      <th>Resume</th>\n",
       "    </tr>\n",
       "  </thead>\n",
       "  <tbody>\n",
       "    <tr>\n",
       "      <th>0</th>\n",
       "      <td>Data Science</td>\n",
       "      <td>Skills * Programming Languages: Python (pandas...</td>\n",
       "    </tr>\n",
       "    <tr>\n",
       "      <th>1</th>\n",
       "      <td>Data Science</td>\n",
       "      <td>Education Details \\r\\nMay 2013 to May 2017 B.E...</td>\n",
       "    </tr>\n",
       "    <tr>\n",
       "      <th>2</th>\n",
       "      <td>Data Science</td>\n",
       "      <td>Areas of Interest Deep Learning, Control Syste...</td>\n",
       "    </tr>\n",
       "    <tr>\n",
       "      <th>3</th>\n",
       "      <td>Data Science</td>\n",
       "      <td>Skills â¢ R â¢ Python â¢ SAP HANA â¢ Table...</td>\n",
       "    </tr>\n",
       "    <tr>\n",
       "      <th>4</th>\n",
       "      <td>Data Science</td>\n",
       "      <td>Education Details \\r\\n MCA   YMCAUST,  Faridab...</td>\n",
       "    </tr>\n",
       "  </tbody>\n",
       "</table>\n",
       "</div>"
      ],
      "text/plain": [
       "       Category                                             Resume\n",
       "0  Data Science  Skills * Programming Languages: Python (pandas...\n",
       "1  Data Science  Education Details \\r\\nMay 2013 to May 2017 B.E...\n",
       "2  Data Science  Areas of Interest Deep Learning, Control Syste...\n",
       "3  Data Science  Skills â¢ R â¢ Python â¢ SAP HANA â¢ Table...\n",
       "4  Data Science  Education Details \\r\\n MCA   YMCAUST,  Faridab..."
      ]
     },
     "execution_count": 80,
     "metadata": {},
     "output_type": "execute_result"
    }
   ],
   "source": [
    "df.head()"
   ]
  },
  {
   "cell_type": "code",
   "execution_count": 81,
   "metadata": {
    "execution": {
     "iopub.execute_input": "2024-03-30T11:12:18.453132Z",
     "iopub.status.busy": "2024-03-30T11:12:18.452475Z",
     "iopub.status.idle": "2024-03-30T11:12:18.465142Z",
     "shell.execute_reply": "2024-03-30T11:12:18.463803Z",
     "shell.execute_reply.started": "2024-03-30T11:12:18.453083Z"
    },
    "id": "dZ_rg4k5MQkh",
    "outputId": "5b2fa62d-18a1-440f-f969-e5a0e3733c9a"
   },
   "outputs": [
    {
     "data": {
      "text/html": [
       "<div>\n",
       "<style scoped>\n",
       "    .dataframe tbody tr th:only-of-type {\n",
       "        vertical-align: middle;\n",
       "    }\n",
       "\n",
       "    .dataframe tbody tr th {\n",
       "        vertical-align: top;\n",
       "    }\n",
       "\n",
       "    .dataframe thead th {\n",
       "        text-align: right;\n",
       "    }\n",
       "</style>\n",
       "<table border=\"1\" class=\"dataframe\">\n",
       "  <thead>\n",
       "    <tr style=\"text-align: right;\">\n",
       "      <th></th>\n",
       "      <th>Category</th>\n",
       "      <th>Resume</th>\n",
       "    </tr>\n",
       "  </thead>\n",
       "  <tbody>\n",
       "    <tr>\n",
       "      <th>957</th>\n",
       "      <td>Testing</td>\n",
       "      <td>Computer Skills: â¢ Proficient in MS office (...</td>\n",
       "    </tr>\n",
       "    <tr>\n",
       "      <th>958</th>\n",
       "      <td>Testing</td>\n",
       "      <td>â Willingness to accept the challenges. â ...</td>\n",
       "    </tr>\n",
       "    <tr>\n",
       "      <th>959</th>\n",
       "      <td>Testing</td>\n",
       "      <td>PERSONAL SKILLS â¢ Quick learner, â¢ Eagerne...</td>\n",
       "    </tr>\n",
       "    <tr>\n",
       "      <th>960</th>\n",
       "      <td>Testing</td>\n",
       "      <td>COMPUTER SKILLS &amp; SOFTWARE KNOWLEDGE MS-Power ...</td>\n",
       "    </tr>\n",
       "    <tr>\n",
       "      <th>961</th>\n",
       "      <td>Testing</td>\n",
       "      <td>Skill Set OS Windows XP/7/8/8.1/10 Database MY...</td>\n",
       "    </tr>\n",
       "  </tbody>\n",
       "</table>\n",
       "</div>"
      ],
      "text/plain": [
       "    Category                                             Resume\n",
       "957  Testing  Computer Skills: â¢ Proficient in MS office (...\n",
       "958  Testing  â Willingness to accept the challenges. â ...\n",
       "959  Testing  PERSONAL SKILLS â¢ Quick learner, â¢ Eagerne...\n",
       "960  Testing  COMPUTER SKILLS & SOFTWARE KNOWLEDGE MS-Power ...\n",
       "961  Testing  Skill Set OS Windows XP/7/8/8.1/10 Database MY..."
      ]
     },
     "execution_count": 81,
     "metadata": {},
     "output_type": "execute_result"
    }
   ],
   "source": [
    "df.tail()"
   ]
  },
  {
   "cell_type": "code",
   "execution_count": 82,
   "metadata": {
    "execution": {
     "iopub.execute_input": "2024-03-30T11:12:19.483073Z",
     "iopub.status.busy": "2024-03-30T11:12:19.482562Z",
     "iopub.status.idle": "2024-03-30T11:12:19.491387Z",
     "shell.execute_reply": "2024-03-30T11:12:19.490011Z",
     "shell.execute_reply.started": "2024-03-30T11:12:19.483037Z"
    },
    "id": "9T_ql8TTNA9Q",
    "outputId": "57fddacb-2476-44f1-c380-d273ece7a697"
   },
   "outputs": [
    {
     "data": {
      "text/plain": [
       "(962, 2)"
      ]
     },
     "execution_count": 82,
     "metadata": {},
     "output_type": "execute_result"
    }
   ],
   "source": [
    "df.shape"
   ]
  },
  {
   "cell_type": "code",
   "execution_count": 83,
   "metadata": {
    "execution": {
     "iopub.execute_input": "2024-03-30T11:12:23.842991Z",
     "iopub.status.busy": "2024-03-30T11:12:23.842547Z",
     "iopub.status.idle": "2024-03-30T11:12:23.861401Z",
     "shell.execute_reply": "2024-03-30T11:12:23.860157Z",
     "shell.execute_reply.started": "2024-03-30T11:12:23.842955Z"
    },
    "id": "7TCg2CeENGX0",
    "outputId": "92b48082-9421-49c5-ef30-49bd6d80736c"
   },
   "outputs": [
    {
     "data": {
      "text/plain": [
       "Category\n",
       "Java Developer               84\n",
       "Testing                      70\n",
       "DevOps Engineer              55\n",
       "Python Developer             48\n",
       "Web Designing                45\n",
       "HR                           44\n",
       "Hadoop                       42\n",
       "Blockchain                   40\n",
       "ETL Developer                40\n",
       "Operations Manager           40\n",
       "Data Science                 40\n",
       "Sales                        40\n",
       "Mechanical Engineer          40\n",
       "Arts                         36\n",
       "Database                     33\n",
       "Electrical Engineering       30\n",
       "Health and fitness           30\n",
       "PMO                          30\n",
       "Business Analyst             28\n",
       "DotNet Developer             28\n",
       "Automation Testing           26\n",
       "Network Security Engineer    25\n",
       "SAP Developer                24\n",
       "Civil Engineer               24\n",
       "Advocate                     20\n",
       "Name: count, dtype: int64"
      ]
     },
     "execution_count": 83,
     "metadata": {},
     "output_type": "execute_result"
    }
   ],
   "source": [
    "df['Category'].value_counts()"
   ]
  },
  {
   "cell_type": "markdown",
   "metadata": {
    "id": "ymI_kTlvCsuD"
   },
   "source": [
    "# TARGET VALUES"
   ]
  },
  {
   "cell_type": "code",
   "execution_count": 84,
   "metadata": {
    "execution": {
     "iopub.execute_input": "2024-03-30T11:12:25.369302Z",
     "iopub.status.busy": "2024-03-30T11:12:25.36827Z",
     "iopub.status.idle": "2024-03-30T11:12:26.198839Z",
     "shell.execute_reply": "2024-03-30T11:12:26.197602Z",
     "shell.execute_reply.started": "2024-03-30T11:12:25.369261Z"
    },
    "id": "RIYGbrs9No44",
    "outputId": "08b5fb9c-e784-4631-8a0a-d9743be32c84"
   },
   "outputs": [
    {
     "data": {
      "image/png": "[encoded data removed]",
      "text/plain": [
       "<Figure size 640x480 with 1 Axes>"
      ]
     },
     "metadata": {},
     "output_type": "display_data"
    }
   ],
   "source": [
    "# Set the style\n",
    "sns.set_style(\"whitegrid\")\n",
    "\n",
    "# Set the color palette\n",
    "sns.set_palette(\"pastel\")\n",
    "\n",
    "# Plot the countplot\n",
    "sns.countplot(data=df, x='Category')\n",
    "\n",
    "# Set labels and title\n",
    "plt.xlabel('Category', fontsize=12)\n",
    "plt.ylabel('Count', fontsize=12)\n",
    "plt.title('Distribution of Categories', fontsize=14)\n",
    "\n",
    "# Rotate x-axis labels for better readability (if needed)\n",
    "plt.xticks(rotation=90)\n",
    "\n",
    "# Show the plot\n",
    "plt.show()\n"
   ]
  },
  {
   "cell_type": "code",
   "execution_count": 85,
   "metadata": {
    "execution": {
     "iopub.execute_input": "2024-03-30T11:12:26.873306Z",
     "iopub.status.busy": "2024-03-30T11:12:26.872241Z",
     "iopub.status.idle": "2024-03-30T11:12:27.399002Z",
     "shell.execute_reply": "2024-03-30T11:12:27.39785Z",
     "shell.execute_reply.started": "2024-03-30T11:12:26.873264Z"
    },
    "id": "HdTOwBDtOUcs",
    "outputId": "59cb3ae3-a816-4b83-ca7c-969355d9517c"
   },
   "outputs": [
    {
     "data": {
      "image/png": "[encoded data removed]",
      "text/plain": [
       "<Figure size 1500x1000 with 1 Axes>"
      ]
     },
     "metadata": {},
     "output_type": "display_data"
    }
   ],
   "source": [
    "# pie chart to show the distribution of categories\n",
    "counts = df['Category'].value_counts()\n",
    "#labels = df['Category'].unique()\n",
    "labels = counts.index\n",
    "plt.figure(figsize=(15,10))\n",
    "\n",
    "plt.pie(counts,labels=labels,autopct='%1.1f%%',shadow=True, colors=plt.cm.plasma(np.linspace(0,1,3)))\n",
    "\n",
    "# Add a concise title to the plot\n",
    "plt.title('Distribution of Categories in the Dataset', pad=20)\n",
    "\n",
    "# Ensure the pie chart is a circle rather than an oval by setting an equal aspect ratio\n",
    "#plt.axis('equal')\n",
    "    \n",
    "plt.show()"
   ]
  },
  {
   "cell_type": "markdown",
   "metadata": {
    "id": "o-gmbAkdStOF"
   },
   "source": [
    "# Exploring Resume"
   ]
  },
  {
   "cell_type": "code",
   "execution_count": 86,
   "metadata": {
    "execution": {
     "iopub.execute_input": "2024-03-30T11:12:30.858297Z",
     "iopub.status.busy": "2024-03-30T11:12:30.857852Z",
     "iopub.status.idle": "2024-03-30T11:12:30.866972Z",
     "shell.execute_reply": "2024-03-30T11:12:30.86522Z",
     "shell.execute_reply.started": "2024-03-30T11:12:30.858263Z"
    },
    "id": "XfJPKkaWSsPP",
    "outputId": "d1b65856-e0fa-4d1b-9352-7e06daa77dde"
   },
   "outputs": [
    {
     "data": {
      "text/plain": [
       "'Data Science'"
      ]
     },
     "execution_count": 86,
     "metadata": {},
     "output_type": "execute_result"
    }
   ],
   "source": [
    "df['Category'][0]"
   ]
  },
  {
   "cell_type": "code",
   "execution_count": 87,
   "metadata": {
    "execution": {
     "iopub.execute_input": "2024-03-30T11:12:31.942814Z",
     "iopub.status.busy": "2024-03-30T11:12:31.94236Z",
     "iopub.status.idle": "2024-03-30T11:12:31.952159Z",
     "shell.execute_reply": "2024-03-30T11:12:31.95041Z",
     "shell.execute_reply.started": "2024-03-30T11:12:31.942768Z"
    },
    "id": "JQvD2Yc2S0pt",
    "outputId": "8d910129-4d94-405c-cd1d-aafc0f2dc91d"
   },
   "outputs": [
    {
     "data": {
      "text/plain": [
       "'Skills * Programming Languages: Python (pandas, numpy, scipy, scikit-learn, matplotlib), Sql, Java, JavaScript/JQuery. * Machine learning: Regression, SVM, NaÃ¯ve Bayes, KNN, Random Forest, Decision Trees, Boosting techniques, Cluster Analysis, Word Embedding, Sentiment Analysis, Natural Language processing, Dimensionality reduction, Topic Modelling (LDA, NMF), PCA & Neural Nets. * Database Visualizations: Mysql, SqlServer, Cassandra, Hbase, ElasticSearch D3.js, DC.js, Plotly, kibana, matplotlib, ggplot, Tableau. * Others: Regular Expression, HTML, CSS, Angular 6, Logstash, Kafka, Python Flask, Git, Docker, computer vision - Open CV and understanding of Deep learning.Education Details \\r\\n\\r\\nData Science Assurance Associate \\r\\n\\r\\nData Science Assurance Associate - Ernst & Young LLP\\r\\nSkill Details \\r\\nJAVASCRIPT- Exprience - 24 months\\r\\njQuery- Exprience - 24 months\\r\\nPython- Exprience - 24 monthsCompany Details \\r\\ncompany - Ernst & Young LLP\\r\\ndescription - Fraud Investigations and Dispute Services   Assurance\\r\\nTECHNOLOGY ASSISTED REVIEW\\r\\nTAR (Technology Assisted Review) assists in accelerating the review process and run analytics and generate reports.\\r\\n* Core member of a team helped in developing automated review platform tool from scratch for assisting E discovery domain, this tool implements predictive coding and topic modelling by automating reviews, resulting in reduced labor costs and time spent during the lawyers review.\\r\\n* Understand the end to end flow of the solution, doing research and development for classification models, predictive analysis and mining of the information present in text data. Worked on analyzing the outputs and precision monitoring for the entire tool.\\r\\n* TAR assists in predictive coding, topic modelling from the evidence by following EY standards. Developed the classifier models in order to identify \"red flags\" and fraud-related issues.\\r\\n\\r\\nTools & Technologies: Python, scikit-learn, tfidf, word2vec, doc2vec, cosine similarity, NaÃ¯ve Bayes, LDA, NMF for topic modelling, Vader and text blob for sentiment analysis. Matplot lib, Tableau dashboard for reporting.\\r\\n\\r\\nMULTIPLE DATA SCIENCE AND ANALYTIC PROJECTS (USA CLIENTS)\\r\\nTEXT ANALYTICS - MOTOR VEHICLE CUSTOMER REVIEW DATA * Received customer feedback survey data for past one year. Performed sentiment (Positive, Negative & Neutral) and time series analysis on customer comments across all 4 categories.\\r\\n* Created heat map of terms by survey category based on frequency of words * Extracted Positive and Negative words across all the Survey categories and plotted Word cloud.\\r\\n* Created customized tableau dashboards for effective reporting and visualizations.\\r\\nCHATBOT * Developed a user friendly chatbot for one of our Products which handle simple questions about hours of operation, reservation options and so on.\\r\\n* This chat bot serves entire product related questions. Giving overview of tool via QA platform and also give recommendation responses so that user question to build chain of relevant answer.\\r\\n* This too has intelligence to build the pipeline of questions as per user requirement and asks the relevant /recommended questions.\\r\\n\\r\\nTools & Technologies: Python, Natural language processing, NLTK, spacy, topic modelling, Sentiment analysis, Word Embedding, scikit-learn, JavaScript/JQuery, SqlServer\\r\\n\\r\\nINFORMATION GOVERNANCE\\r\\nOrganizations to make informed decisions about all of the information they store. The integrated Information Governance portfolio synthesizes intelligence across unstructured data sources and facilitates action to ensure organizations are best positioned to counter information risk.\\r\\n* Scan data from multiple sources of formats and parse different file formats, extract Meta data information, push results for indexing elastic search and created customized, interactive dashboards using kibana.\\r\\n* Preforming ROT Analysis on the data which give information of data which helps identify content that is either Redundant, Outdated, or Trivial.\\r\\n* Preforming full-text search analysis on elastic search with predefined methods which can tag as (PII) personally identifiable information (social security numbers, addresses, names, etc.) which frequently targeted during cyber-attacks.\\r\\nTools & Technologies: Python, Flask, Elastic Search, Kibana\\r\\n\\r\\nFRAUD ANALYTIC PLATFORM\\r\\nFraud Analytics and investigative platform to review all red flag cases.\\r\\nâ\\x80¢ FAP is a Fraud Analytics and investigative platform with inbuilt case manager and suite of Analytics for various ERP systems.\\r\\n* It can be used by clients to interrogate their Accounting systems for identifying the anomalies which can be indicators of fraud by running advanced analytics\\r\\nTools & Technologies: HTML, JavaScript, SqlServer, JQuery, CSS, Bootstrap, Node.js, D3.js, DC.js'"
      ]
     },
     "execution_count": 87,
     "metadata": {},
     "output_type": "execute_result"
    }
   ],
   "source": [
    "df['Resume'][0]"
   ]
  },
  {
   "cell_type": "code",
   "execution_count": 88,
   "metadata": {
    "execution": {
     "iopub.execute_input": "2024-03-30T11:12:32.852511Z",
     "iopub.status.busy": "2024-03-30T11:12:32.852089Z",
     "iopub.status.idle": "2024-03-30T11:12:32.86082Z",
     "shell.execute_reply": "2024-03-30T11:12:32.85952Z",
     "shell.execute_reply.started": "2024-03-30T11:12:32.852479Z"
    },
    "id": "LlYkpy2dTVJB",
    "outputId": "101f7770-25d5-4065-fcd0-330cc9bb1adb"
   },
   "outputs": [
    {
     "data": {
      "text/plain": [
       "'Testing'"
      ]
     },
     "execution_count": 88,
     "metadata": {},
     "output_type": "execute_result"
    }
   ],
   "source": [
    "df['Category'][960]"
   ]
  },
  {
   "cell_type": "code",
   "execution_count": 89,
   "metadata": {
    "execution": {
     "iopub.execute_input": "2024-03-30T11:12:34.467546Z",
     "iopub.status.busy": "2024-03-30T11:12:34.46715Z",
     "iopub.status.idle": "2024-03-30T11:12:34.477405Z",
     "shell.execute_reply": "2024-03-30T11:12:34.475867Z",
     "shell.execute_reply.started": "2024-03-30T11:12:34.467513Z"
    },
    "id": "kEPClsAbTRo2",
    "outputId": "b4d954f9-d4c6-4f67-95f5-166efd4d7bc4"
   },
   "outputs": [
    {
     "data": {
      "text/plain": [
       "'COMPUTER SKILLS & SOFTWARE KNOWLEDGE MS-Power Point, MS - Office, C, Protius (PCB Design), Multisim, Micro wind, Matlab, Keil, Latex, Basic I nternet Fundamentals, Software and Hardware Knowledge PROJECT DETAILS Diploma Project: Speed Control of DC Motor Using Heart Beats. Mini Project: Water Gardening System Using Solar Panel. Final Year BE Project: Iris Recognition system.Education Details \\r\\nJanuary 2016 BE EDUCATION Pune, Maharashtra PUNE University\\r\\nJanuary 2010 SSC   Maharashtra Board\\r\\nQuality Engineer \\r\\n\\r\\nQuality Engineer - Matrix Technologies\\r\\nSkill Details \\r\\nMATLAB- Exprience - 6 months\\r\\nPCB- Exprience - 6 months\\r\\nPCB DESIGN- Exprience - 6 monthsCompany Details \\r\\ncompany - Matrix Technologies\\r\\ndescription - \\r\\ncompany - RB Electronics\\r\\ndescription - '"
      ]
     },
     "execution_count": 89,
     "metadata": {},
     "output_type": "execute_result"
    }
   ],
   "source": [
    "df['Resume'][960]"
   ]
  },
  {
   "cell_type": "markdown",
   "metadata": {
    "id": "VC0DfHnfTgOw"
   },
   "source": [
    "# Cleaning Resume\n",
    "\n",
    "1. URL's\n",
    "2. HASHTAGS\n",
    "3. Mentions\n",
    "4. Special Letters\n",
    "5. punctions\n"
   ]
  },
  {
   "cell_type": "code",
   "execution_count": 90,
   "metadata": {
    "execution": {
     "iopub.execute_input": "2024-03-30T11:12:37.642343Z",
     "iopub.status.busy": "2024-03-30T11:12:37.641955Z",
     "iopub.status.idle": "2024-03-30T11:12:37.649983Z",
     "shell.execute_reply": "2024-03-30T11:12:37.648132Z",
     "shell.execute_reply.started": "2024-03-30T11:12:37.642314Z"
    },
    "id": "XUGmIwaPYghN"
   },
   "outputs": [],
   "source": [
    "import re"
   ]
  },
  {
   "cell_type": "code",
   "execution_count": 91,
   "metadata": {
    "execution": {
     "iopub.execute_input": "2024-03-30T11:12:38.238086Z",
     "iopub.status.busy": "2024-03-30T11:12:38.237385Z",
     "iopub.status.idle": "2024-03-30T11:12:38.248593Z",
     "shell.execute_reply": "2024-03-30T11:12:38.246837Z",
     "shell.execute_reply.started": "2024-03-30T11:12:38.23775Z"
    },
    "id": "WSnjumzHYcGr"
   },
   "outputs": [],
   "source": [
    "\n",
    "def clean_resume(text):\n",
    "\n",
    "    # Remove URLs\n",
    "    text = re.sub(r\"http\\S+\", \"\", text)\n",
    "    # Remove non-alphanumeric characters and extra whitespaces\n",
    "    text = re.sub(r\"[^a-zA-Z0-9\\s]\", \" \", text)\n",
    "    # Remove extra whitespaces\n",
    "    text = re.sub(r\"\\s+\", \" \", text)\n",
    "    # Remove hashtags (words starting with #)\n",
    "    text = re.sub(r\"#\\w+\", \"\", text)\n",
    "    # Remove mentions (words starting with @)\n",
    "    text = re.sub(r\"@\\w+\", \"\", text)\n",
    "    # Remove punctuation and special characters\n",
    "    text = re.sub(r\"[^\\w\\s]\", \"\", text)\n",
    "    text = re.sub(r\"[\\n\\t\\r]\", \"\", text)\n",
    "    text = re.sub(r\"\\n\", \"\", text)\n",
    "    # Convert to lowercase\n",
    "    text = text.lower()\n",
    "\n",
    "    return text\n",
    "\n"
   ]
  },
  {
   "cell_type": "code",
   "execution_count": 92,
   "metadata": {
    "execution": {
     "iopub.execute_input": "2024-03-30T11:12:39.043378Z",
     "iopub.status.busy": "2024-03-30T11:12:39.042994Z",
     "iopub.status.idle": "2024-03-30T11:12:39.05559Z",
     "shell.execute_reply": "2024-03-30T11:12:39.053596Z",
     "shell.execute_reply.started": "2024-03-30T11:12:39.04335Z"
    },
    "id": "rt8JFFJ0XJrk",
    "outputId": "d0f49dd6-0726-4b46-d5da-9ef1f7133c5b"
   },
   "outputs": [
    {
     "data": {
      "text/plain": [
       "'computer skills software knowledge ms power point ms office c protius pcb design multisim micro wind matlab keil latex basic i nternet fundamentals software and hardware knowledge project details diploma project speed control of dc motor using heart beats mini project water gardening system using solar panel final year be project iris recognition system education details january 2016 be education pune maharashtra pune university january 2010 ssc maharashtra board quality engineer quality engineer matrix technologies skill details matlab exprience 6 months pcb exprience 6 months pcb design exprience 6 months company details company matrix technologies description company rb electronics description '"
      ]
     },
     "execution_count": 92,
     "metadata": {},
     "output_type": "execute_result"
    }
   ],
   "source": [
    "clean_resume(\"\"\"COMPUTER SKILLS & SOFTWARE KNOWLEDGE\n",
    "MS-Power Point, MS - Office, C, Protius (PCB Design), Multisim, Micro wind, Matlab, Keil, Latex, Basic I nternet Fundamentals, Software and Hardware Knowledge\n",
    "\n",
    "PROJECT DETAILS\n",
    "Diploma Project: Speed Control of DC Motor Using Heart Beats.\n",
    "Mini Project: Water Gardening System Using Solar Panel.\n",
    "Final Year BE Project: Iris Recognition system.\n",
    "\n",
    "Education Details\n",
    "January 2016 BE EDUCATION Pune, Maharashtra PUNE University\n",
    "January 2010 SSC Maharashtra Board\n",
    "\n",
    "Quality Engineer\n",
    "\n",
    "Quality Engineer - Matrix Technologies\n",
    "Skill Details\n",
    "MATLAB- Exprience - 6 months\n",
    "PCB- Exprience - 6 months\n",
    "PCB DESIGN- Exprience - 6 months\n",
    "http://videogame.com\n",
    "Company Details\n",
    "company - Matrix Technologies\n",
    "description -\n",
    "company - RB Electronics\n",
    "description -\n",
    "\"\"\")"
   ]
  },
  {
   "cell_type": "code",
   "execution_count": 93,
   "metadata": {
    "execution": {
     "iopub.execute_input": "2024-03-30T11:12:39.678997Z",
     "iopub.status.busy": "2024-03-30T11:12:39.678222Z",
     "iopub.status.idle": "2024-03-30T11:12:40.304081Z",
     "shell.execute_reply": "2024-03-30T11:12:40.302995Z",
     "shell.execute_reply.started": "2024-03-30T11:12:39.678947Z"
    },
    "id": "SEw1lZNbgcSF"
   },
   "outputs": [],
   "source": [
    "df['Resume']=df['Resume'].apply(lambda x: clean_resume(x))"
   ]
  },
  {
   "cell_type": "code",
   "execution_count": 94,
   "metadata": {
    "execution": {
     "iopub.execute_input": "2024-03-30T11:12:40.332425Z",
     "iopub.status.busy": "2024-03-30T11:12:40.332021Z",
     "iopub.status.idle": "2024-03-30T11:12:40.342025Z",
     "shell.execute_reply": "2024-03-30T11:12:40.340283Z",
     "shell.execute_reply.started": "2024-03-30T11:12:40.332393Z"
    },
    "id": "EFiXDOBjhBIW",
    "outputId": "9f7291a8-98a5-4428-a92e-0ac802949bac"
   },
   "outputs": [
    {
     "data": {
      "text/plain": [
       "'skills programming languages python pandas numpy scipy scikit learn matplotlib sql java javascript jquery machine learning regression svm na ve bayes knn random forest decision trees boosting techniques cluster analysis word embedding sentiment analysis natural language processing dimensionality reduction topic modelling lda nmf pca neural nets database visualizations mysql sqlserver cassandra hbase elasticsearch d3 js dc js plotly kibana matplotlib ggplot tableau others regular expression html css angular 6 logstash kafka python flask git docker computer vision open cv and understanding of deep learning education details data science assurance associate data science assurance associate ernst young llp skill details javascript exprience 24 months jquery exprience 24 months python exprience 24 monthscompany details company ernst young llp description fraud investigations and dispute services assurance technology assisted review tar technology assisted review assists in accelerating the review process and run analytics and generate reports core member of a team helped in developing automated review platform tool from scratch for assisting e discovery domain this tool implements predictive coding and topic modelling by automating reviews resulting in reduced labor costs and time spent during the lawyers review understand the end to end flow of the solution doing research and development for classification models predictive analysis and mining of the information present in text data worked on analyzing the outputs and precision monitoring for the entire tool tar assists in predictive coding topic modelling from the evidence by following ey standards developed the classifier models in order to identify red flags and fraud related issues tools technologies python scikit learn tfidf word2vec doc2vec cosine similarity na ve bayes lda nmf for topic modelling vader and text blob for sentiment analysis matplot lib tableau dashboard for reporting multiple data science and analytic projects usa clients text analytics motor vehicle customer review data received customer feedback survey data for past one year performed sentiment positive negative neutral and time series analysis on customer comments across all 4 categories created heat map of terms by survey category based on frequency of words extracted positive and negative words across all the survey categories and plotted word cloud created customized tableau dashboards for effective reporting and visualizations chatbot developed a user friendly chatbot for one of our products which handle simple questions about hours of operation reservation options and so on this chat bot serves entire product related questions giving overview of tool via qa platform and also give recommendation responses so that user question to build chain of relevant answer this too has intelligence to build the pipeline of questions as per user requirement and asks the relevant recommended questions tools technologies python natural language processing nltk spacy topic modelling sentiment analysis word embedding scikit learn javascript jquery sqlserver information governance organizations to make informed decisions about all of the information they store the integrated information governance portfolio synthesizes intelligence across unstructured data sources and facilitates action to ensure organizations are best positioned to counter information risk scan data from multiple sources of formats and parse different file formats extract meta data information push results for indexing elastic search and created customized interactive dashboards using kibana preforming rot analysis on the data which give information of data which helps identify content that is either redundant outdated or trivial preforming full text search analysis on elastic search with predefined methods which can tag as pii personally identifiable information social security numbers addresses names etc which frequently targeted during cyber attacks tools technologies python flask elastic search kibana fraud analytic platform fraud analytics and investigative platform to review all red flag cases fap is a fraud analytics and investigative platform with inbuilt case manager and suite of analytics for various erp systems it can be used by clients to interrogate their accounting systems for identifying the anomalies which can be indicators of fraud by running advanced analytics tools technologies html javascript sqlserver jquery css bootstrap node js d3 js dc js'"
      ]
     },
     "execution_count": 94,
     "metadata": {},
     "output_type": "execute_result"
    }
   ],
   "source": [
    "df['Resume'][0]"
   ]
  },
  {
   "cell_type": "markdown",
   "metadata": {
    "id": "9dsgiRbLkI07"
   },
   "source": [
    "# Words into Categorical Values\n",
    "\n",
    "- Make the Category columns into Numbers for processing"
   ]
  },
  {
   "cell_type": "code",
   "execution_count": 95,
   "metadata": {
    "execution": {
     "iopub.execute_input": "2024-03-30T11:12:42.093141Z",
     "iopub.status.busy": "2024-03-30T11:12:42.092656Z",
     "iopub.status.idle": "2024-03-30T11:12:42.098593Z",
     "shell.execute_reply": "2024-03-30T11:12:42.097501Z",
     "shell.execute_reply.started": "2024-03-30T11:12:42.093105Z"
    },
    "id": "Co6cWbQPG1gx"
   },
   "outputs": [],
   "source": [
    "df1= df.copy()"
   ]
  },
  {
   "cell_type": "code",
   "execution_count": 96,
   "metadata": {
    "execution": {
     "iopub.execute_input": "2024-03-30T11:12:42.682645Z",
     "iopub.status.busy": "2024-03-30T11:12:42.682181Z",
     "iopub.status.idle": "2024-03-30T11:12:42.920401Z",
     "shell.execute_reply": "2024-03-30T11:12:42.919276Z",
     "shell.execute_reply.started": "2024-03-30T11:12:42.682607Z"
    },
    "id": "3MuxIARIkHO5"
   },
   "outputs": [],
   "source": [
    "from sklearn.preprocessing import LabelEncoder\n",
    "le = LabelEncoder()"
   ]
  },
  {
   "cell_type": "code",
   "execution_count": 97,
   "metadata": {
    "execution": {
     "iopub.execute_input": "2024-03-30T11:12:43.243256Z",
     "iopub.status.busy": "2024-03-30T11:12:43.242359Z",
     "iopub.status.idle": "2024-03-30T11:12:43.254015Z",
     "shell.execute_reply": "2024-03-30T11:12:43.252318Z",
     "shell.execute_reply.started": "2024-03-30T11:12:43.24321Z"
    },
    "id": "Rbg1m2HFk3Uv"
   },
   "outputs": [],
   "source": [
    "le.fit(df['Category'])\n",
    "df1['Category_num'] = le.transform(df['Category'])\n",
    "df['Category'] = le.transform(df['Category'])"
   ]
  },
  {
   "cell_type": "code",
   "execution_count": 98,
   "metadata": {
    "execution": {
     "iopub.execute_input": "2024-03-30T11:12:43.777059Z",
     "iopub.status.busy": "2024-03-30T11:12:43.776622Z",
     "iopub.status.idle": "2024-03-30T11:12:43.789392Z",
     "shell.execute_reply": "2024-03-30T11:12:43.78785Z",
     "shell.execute_reply.started": "2024-03-30T11:12:43.777029Z"
    },
    "id": "f_CKxqQklEy4",
    "outputId": "e9b570eb-70fb-4230-86f8-fed410a63174"
   },
   "outputs": [
    {
     "data": {
      "text/html": [
       "<div>\n",
       "<style scoped>\n",
       "    .dataframe tbody tr th:only-of-type {\n",
       "        vertical-align: middle;\n",
       "    }\n",
       "\n",
       "    .dataframe tbody tr th {\n",
       "        vertical-align: top;\n",
       "    }\n",
       "\n",
       "    .dataframe thead th {\n",
       "        text-align: right;\n",
       "    }\n",
       "</style>\n",
       "<table border=\"1\" class=\"dataframe\">\n",
       "  <thead>\n",
       "    <tr style=\"text-align: right;\">\n",
       "      <th></th>\n",
       "      <th>Category</th>\n",
       "      <th>Resume</th>\n",
       "    </tr>\n",
       "  </thead>\n",
       "  <tbody>\n",
       "    <tr>\n",
       "      <th>0</th>\n",
       "      <td>6</td>\n",
       "      <td>skills programming languages python pandas num...</td>\n",
       "    </tr>\n",
       "    <tr>\n",
       "      <th>1</th>\n",
       "      <td>6</td>\n",
       "      <td>education details may 2013 to may 2017 b e uit...</td>\n",
       "    </tr>\n",
       "    <tr>\n",
       "      <th>2</th>\n",
       "      <td>6</td>\n",
       "      <td>areas of interest deep learning control system...</td>\n",
       "    </tr>\n",
       "    <tr>\n",
       "      <th>3</th>\n",
       "      <td>6</td>\n",
       "      <td>skills r python sap hana tableau sap hana sql ...</td>\n",
       "    </tr>\n",
       "    <tr>\n",
       "      <th>4</th>\n",
       "      <td>6</td>\n",
       "      <td>education details mca ymcaust faridabad haryan...</td>\n",
       "    </tr>\n",
       "  </tbody>\n",
       "</table>\n",
       "</div>"
      ],
      "text/plain": [
       "   Category                                             Resume\n",
       "0         6  skills programming languages python pandas num...\n",
       "1         6  education details may 2013 to may 2017 b e uit...\n",
       "2         6  areas of interest deep learning control system...\n",
       "3         6  skills r python sap hana tableau sap hana sql ...\n",
       "4         6  education details mca ymcaust faridabad haryan..."
      ]
     },
     "execution_count": 98,
     "metadata": {},
     "output_type": "execute_result"
    }
   ],
   "source": [
    "df.head()"
   ]
  },
  {
   "cell_type": "markdown",
   "metadata": {
    "id": "ifAnCHuMljiI"
   },
   "source": [
    "# Vectorization"
   ]
  },
  {
   "cell_type": "code",
   "execution_count": 99,
   "metadata": {
    "execution": {
     "iopub.execute_input": "2024-03-30T11:12:44.982427Z",
     "iopub.status.busy": "2024-03-30T11:12:44.982051Z",
     "iopub.status.idle": "2024-03-30T11:12:45.92415Z",
     "shell.execute_reply": "2024-03-30T11:12:45.922938Z",
     "shell.execute_reply.started": "2024-03-30T11:12:44.982397Z"
    },
    "id": "9eMth3-nlir_"
   },
   "outputs": [],
   "source": [
    "from sklearn.feature_extraction.text import TfidfVectorizer\n",
    "tfidf = TfidfVectorizer(stop_words='english')\n",
    "\n",
    "tfidf.fit(df['Resume'])\n",
    "required_text = tfidf.transform(df['Resume'])\n"
   ]
  },
  {
   "cell_type": "code",
   "execution_count": 100,
   "metadata": {
    "execution": {
     "iopub.execute_input": "2024-03-30T11:12:45.926794Z",
     "iopub.status.busy": "2024-03-30T11:12:45.92632Z",
     "iopub.status.idle": "2024-03-30T11:12:45.934698Z",
     "shell.execute_reply": "2024-03-30T11:12:45.93355Z",
     "shell.execute_reply.started": "2024-03-30T11:12:45.92674Z"
    },
    "id": "6UfTFNnK7gYu",
    "outputId": "657cead2-004f-4390-b296-36dc4ef3367f"
   },
   "outputs": [
    {
     "data": {
      "text/plain": [
       "<962x7348 sparse matrix of type '<class 'numpy.float64'>'\n",
       "\twith 164128 stored elements in Compressed Sparse Row format>"
      ]
     },
     "execution_count": 100,
     "metadata": {},
     "output_type": "execute_result"
    }
   ],
   "source": [
    "required_text"
   ]
  },
  {
   "cell_type": "markdown",
   "metadata": {
    "id": "oremaAok8kA_"
   },
   "source": [
    "Splitting Dataset"
   ]
  },
  {
   "cell_type": "code",
   "execution_count": 101,
   "metadata": {
    "execution": {
     "iopub.execute_input": "2024-03-30T11:12:46.762151Z",
     "iopub.status.busy": "2024-03-30T11:12:46.761724Z",
     "iopub.status.idle": "2024-03-30T11:12:46.890451Z",
     "shell.execute_reply": "2024-03-30T11:12:46.889321Z",
     "shell.execute_reply.started": "2024-03-30T11:12:46.762119Z"
    },
    "id": "9mNX3ZX88DnN"
   },
   "outputs": [],
   "source": [
    "from sklearn.model_selection import train_test_split , GridSearchCV\n",
    "X_train, X_test, y_train, y_test = train_test_split(required_text, df['Category'], test_size=0.2, random_state=42)"
   ]
  },
  {
   "cell_type": "code",
   "execution_count": 102,
   "metadata": {
    "execution": {
     "iopub.execute_input": "2024-03-30T11:12:47.318111Z",
     "iopub.status.busy": "2024-03-30T11:12:47.316662Z",
     "iopub.status.idle": "2024-03-30T11:12:47.326617Z",
     "shell.execute_reply": "2024-03-30T11:12:47.324942Z",
     "shell.execute_reply.started": "2024-03-30T11:12:47.318061Z"
    },
    "id": "RzcR-ei_85oW",
    "outputId": "47982bd7-5ebb-4bf0-9aeb-af66d0fd3873"
   },
   "outputs": [
    {
     "name": "stdout",
     "output_type": "stream",
     "text": [
      "X_train (769, 7348)\n",
      "X_test (193, 7348)\n",
      "y_train (769,)\n",
      "y_test (193,)\n"
     ]
    }
   ],
   "source": [
    "print(f\"X_train { X_train.shape}\")\n",
    "print(f\"X_test { X_test.shape}\")\n",
    "print(f\"y_train { y_train.shape}\")\n",
    "print(f\"y_test { y_test.shape}\")\n"
   ]
  },
  {
   "cell_type": "markdown",
   "metadata": {
    "id": "X3RjZ2J-9oOj"
   },
   "source": [
    "#Train Model"
   ]
  },
  {
   "cell_type": "markdown",
   "metadata": {
    "id": "smxy4VZt_avp"
   },
   "source": [
    "##KNeighborsClassifier"
   ]
  },
  {
   "cell_type": "code",
   "execution_count": 103,
   "metadata": {
    "execution": {
     "iopub.execute_input": "2024-03-30T11:12:49.212199Z",
     "iopub.status.busy": "2024-03-30T11:12:49.211723Z",
     "iopub.status.idle": "2024-03-30T11:12:49.403833Z",
     "shell.execute_reply": "2024-03-30T11:12:49.402446Z",
     "shell.execute_reply.started": "2024-03-30T11:12:49.212167Z"
    },
    "id": "bfZbfUwI9GFE"
   },
   "outputs": [],
   "source": [
    "from sklearn.neighbors import KNeighborsClassifier\n",
    "from sklearn.metrics import accuracy_score, precision_score, recall_score, f1_score, classification_report"
   ]
  },
  {
   "cell_type": "code",
   "execution_count": 104,
   "metadata": {
    "execution": {
     "iopub.execute_input": "2024-03-30T11:12:49.711977Z",
     "iopub.status.busy": "2024-03-30T11:12:49.711549Z",
     "iopub.status.idle": "2024-03-30T11:12:49.717714Z",
     "shell.execute_reply": "2024-03-30T11:12:49.716339Z",
     "shell.execute_reply.started": "2024-03-30T11:12:49.711946Z"
    },
    "id": "q6CjuBasAF08"
   },
   "outputs": [],
   "source": [
    "# Define a grid of Hyperparameters to Search over\n",
    "param_grid = {'n_neighbors' : [3,5,7,8]}\n"
   ]
  },
  {
   "cell_type": "code",
   "execution_count": 105,
   "metadata": {
    "execution": {
     "iopub.execute_input": "2024-03-30T11:12:50.302188Z",
     "iopub.status.busy": "2024-03-30T11:12:50.301766Z",
     "iopub.status.idle": "2024-03-30T11:12:50.307138Z",
     "shell.execute_reply": "2024-03-30T11:12:50.306103Z",
     "shell.execute_reply.started": "2024-03-30T11:12:50.302157Z"
    },
    "id": "Lx-WKTtuAocU"
   },
   "outputs": [],
   "source": [
    "knn_classifier = KNeighborsClassifier()\n"
   ]
  },
  {
   "cell_type": "code",
   "execution_count": 106,
   "metadata": {
    "execution": {
     "iopub.execute_input": "2024-03-30T11:12:50.869277Z",
     "iopub.status.busy": "2024-03-30T11:12:50.868624Z",
     "iopub.status.idle": "2024-03-30T11:13:17.803549Z",
     "shell.execute_reply": "2024-03-30T11:13:17.802578Z",
     "shell.execute_reply.started": "2024-03-30T11:12:50.869243Z"
    },
    "id": "pFUUNHKLAuzc",
    "outputId": "ca0702e2-0beb-45c7-fb6b-aef7ef01023f"
   },
   "outputs": [
    {
     "data": {
      "text/html": [
       "<style>#sk-container-id-3 {\n",
       "  /* Definition of color scheme common for light and dark mode */\n",
       "  --sklearn-color-text: black;\n",
       "  --sklearn-color-line: gray;\n",
       "  /* Definition of color scheme for unfitted estimators */\n",
       "  --sklearn-color-unfitted-level-0: #fff5e6;\n",
       "  --sklearn-color-unfitted-level-1: #f6e4d2;\n",
       "  --sklearn-color-unfitted-level-2: #ffe0b3;\n",
       "  --sklearn-color-unfitted-level-3: chocolate;\n",
       "  /* Definition of color scheme for fitted estimators */\n",
       "  --sklearn-color-fitted-level-0: #f0f8ff;\n",
       "  --sklearn-color-fitted-level-1: #d4ebff;\n",
       "  --sklearn-color-fitted-level-2: #b3dbfd;\n",
       "  --sklearn-color-fitted-level-3: cornflowerblue;\n",
       "\n",
       "  /* Specific color for light theme */\n",
       "  --sklearn-color-text-on-default-background: var(--sg-text-color, var(--theme-code-foreground, var(--jp-content-font-color1, black)));\n",
       "  --sklearn-color-background: var(--sg-background-color, var(--theme-background, var(--jp-layout-color0, white)));\n",
       "  --sklearn-color-border-box: var(--sg-text-color, var(--theme-code-foreground, var(--jp-content-font-color1, black)));\n",
       "  --sklearn-color-icon: #696969;\n",
       "\n",
       "  @media (prefers-color-scheme: dark) {\n",
       "    /* Redefinition of color scheme for dark theme */\n",
       "    --sklearn-color-text-on-default-background: var(--sg-text-color, var(--theme-code-foreground, var(--jp-content-font-color1, white)));\n",
       "    --sklearn-color-background: var(--sg-background-color, var(--theme-background, var(--jp-layout-color0, #111)));\n",
       "    --sklearn-color-border-box: var(--sg-text-color, var(--theme-code-foreground, var(--jp-content-font-color1, white)));\n",
       "    --sklearn-color-icon: #878787;\n",
       "  }\n",
       "}\n",
       "\n",
       "#sk-container-id-3 {\n",
       "  color: var(--sklearn-color-text);\n",
       "}\n",
       "\n",
       "#sk-container-id-3 pre {\n",
       "  padding: 0;\n",
       "}\n",
       "\n",
       "#sk-container-id-3 input.sk-hidden--visually {\n",
       "  border: 0;\n",
       "  clip: rect(1px 1px 1px 1px);\n",
       "  clip: rect(1px, 1px, 1px, 1px);\n",
       "  height: 1px;\n",
       "  margin: -1px;\n",
       "  overflow: hidden;\n",
       "  padding: 0;\n",
       "  position: absolute;\n",
       "  width: 1px;\n",
       "}\n",
       "\n",
       "#sk-container-id-3 div.sk-dashed-wrapped {\n",
       "  border: 1px dashed var(--sklearn-color-line);\n",
       "  margin: 0 0.4em 0.5em 0.4em;\n",
       "  box-sizing: border-box;\n",
       "  padding-bottom: 0.4em;\n",
       "  background-color: var(--sklearn-color-background);\n",
       "}\n",
       "\n",
       "#sk-container-id-3 div.sk-container {\n",
       "  /* jupyter's `normalize.less` sets `[hidden] { display: none; }`\n",
       "     but bootstrap.min.css set `[hidden] { display: none !important; }`\n",
       "     so we also need the `!important` here to be able to override the\n",
       "     default hidden behavior on the sphinx rendered scikit-learn.org.\n",
       "     See: https://github.com/scikit-learn/scikit-learn/issues/21755 */\n",
       "  display: inline-block !important;\n",
       "  position: relative;\n",
       "}\n",
       "\n",
       "#sk-container-id-3 div.sk-text-repr-fallback {\n",
       "  display: none;\n",
       "}\n",
       "\n",
       "div.sk-parallel-item,\n",
       "div.sk-serial,\n",
       "div.sk-item {\n",
       "  /* draw centered vertical line to link estimators */\n",
       "  background-image: linear-gradient(var(--sklearn-color-text-on-default-background), var(--sklearn-color-text-on-default-background));\n",
       "  background-size: 2px 100%;\n",
       "  background-repeat: no-repeat;\n",
       "  background-position: center center;\n",
       "}\n",
       "\n",
       "/* Parallel-specific style estimator block */\n",
       "\n",
       "#sk-container-id-3 div.sk-parallel-item::after {\n",
       "  content: \"\";\n",
       "  width: 100%;\n",
       "  border-bottom: 2px solid var(--sklearn-color-text-on-default-background);\n",
       "  flex-grow: 1;\n",
       "}\n",
       "\n",
       "#sk-container-id-3 div.sk-parallel {\n",
       "  display: flex;\n",
       "  align-items: stretch;\n",
       "  justify-content: center;\n",
       "  background-color: var(--sklearn-color-background);\n",
       "  position: relative;\n",
       "}\n",
       "\n",
       "#sk-container-id-3 div.sk-parallel-item {\n",
       "  display: flex;\n",
       "  flex-direction: column;\n",
       "}\n",
       "\n",
       "#sk-container-id-3 div.sk-parallel-item:first-child::after {\n",
       "  align-self: flex-end;\n",
       "  width: 50%;\n",
       "}\n",
       "\n",
       "#sk-container-id-3 div.sk-parallel-item:last-child::after {\n",
       "  align-self: flex-start;\n",
       "  width: 50%;\n",
       "}\n",
       "\n",
       "#sk-container-id-3 div.sk-parallel-item:only-child::after {\n",
       "  width: 0;\n",
       "}\n",
       "\n",
       "/* Serial-specific style estimator block */\n",
       "\n",
       "#sk-container-id-3 div.sk-serial {\n",
       "  display: flex;\n",
       "  flex-direction: column;\n",
       "  align-items: center;\n",
       "  background-color: var(--sklearn-color-background);\n",
       "  padding-right: 1em;\n",
       "  padding-left: 1em;\n",
       "}\n",
       "\n",
       "\n",
       "/* Toggleable style: style used for estimator/Pipeline/ColumnTransformer box that is\n",
       "clickable and can be expanded/collapsed.\n",
       "- Pipeline and ColumnTransformer use this feature and define the default style\n",
       "- Estimators will overwrite some part of the style using the `sk-estimator` class\n",
       "*/\n",
       "\n",
       "/* Pipeline and ColumnTransformer style (default) */\n",
       "\n",
       "#sk-container-id-3 div.sk-toggleable {\n",
       "  /* Default theme specific background. It is overwritten whether we have a\n",
       "  specific estimator or a Pipeline/ColumnTransformer */\n",
       "  background-color: var(--sklearn-color-background);\n",
       "}\n",
       "\n",
       "/* Toggleable label */\n",
       "#sk-container-id-3 label.sk-toggleable__label {\n",
       "  cursor: pointer;\n",
       "  display: block;\n",
       "  width: 100%;\n",
       "  margin-bottom: 0;\n",
       "  padding: 0.5em;\n",
       "  box-sizing: border-box;\n",
       "  text-align: center;\n",
       "}\n",
       "\n",
       "#sk-container-id-3 label.sk-toggleable__label-arrow:before {\n",
       "  /* Arrow on the left of the label */\n",
       "  content: \"▸\";\n",
       "  float: left;\n",
       "  margin-right: 0.25em;\n",
       "  color: var(--sklearn-color-icon);\n",
       "}\n",
       "\n",
       "#sk-container-id-3 label.sk-toggleable__label-arrow:hover:before {\n",
       "  color: var(--sklearn-color-text);\n",
       "}\n",
       "\n",
       "/* Toggleable content - dropdown */\n",
       "\n",
       "#sk-container-id-3 div.sk-toggleable__content {\n",
       "  max-height: 0;\n",
       "  max-width: 0;\n",
       "  overflow: hidden;\n",
       "  text-align: left;\n",
       "  /* unfitted */\n",
       "  background-color: var(--sklearn-color-unfitted-level-0);\n",
       "}\n",
       "\n",
       "#sk-container-id-3 div.sk-toggleable__content.fitted {\n",
       "  /* fitted */\n",
       "  background-color: var(--sklearn-color-fitted-level-0);\n",
       "}\n",
       "\n",
       "#sk-container-id-3 div.sk-toggleable__content pre {\n",
       "  margin: 0.2em;\n",
       "  border-radius: 0.25em;\n",
       "  color: var(--sklearn-color-text);\n",
       "  /* unfitted */\n",
       "  background-color: var(--sklearn-color-unfitted-level-0);\n",
       "}\n",
       "\n",
       "#sk-container-id-3 div.sk-toggleable__content.fitted pre {\n",
       "  /* unfitted */\n",
       "  background-color: var(--sklearn-color-fitted-level-0);\n",
       "}\n",
       "\n",
       "#sk-container-id-3 input.sk-toggleable__control:checked~div.sk-toggleable__content {\n",
       "  /* Expand drop-down */\n",
       "  max-height: 200px;\n",
       "  max-width: 100%;\n",
       "  overflow: auto;\n",
       "}\n",
       "\n",
       "#sk-container-id-3 input.sk-toggleable__control:checked~label.sk-toggleable__label-arrow:before {\n",
       "  content: \"▾\";\n",
       "}\n",
       "\n",
       "/* Pipeline/ColumnTransformer-specific style */\n",
       "\n",
       "#sk-container-id-3 div.sk-label input.sk-toggleable__control:checked~label.sk-toggleable__label {\n",
       "  color: var(--sklearn-color-text);\n",
       "  background-color: var(--sklearn-color-unfitted-level-2);\n",
       "}\n",
       "\n",
       "#sk-container-id-3 div.sk-label.fitted input.sk-toggleable__control:checked~label.sk-toggleable__label {\n",
       "  background-color: var(--sklearn-color-fitted-level-2);\n",
       "}\n",
       "\n",
       "/* Estimator-specific style */\n",
       "\n",
       "/* Colorize estimator box */\n",
       "#sk-container-id-3 div.sk-estimator input.sk-toggleable__control:checked~label.sk-toggleable__label {\n",
       "  /* unfitted */\n",
       "  background-color: var(--sklearn-color-unfitted-level-2);\n",
       "}\n",
       "\n",
       "#sk-container-id-3 div.sk-estimator.fitted input.sk-toggleable__control:checked~label.sk-toggleable__label {\n",
       "  /* fitted */\n",
       "  background-color: var(--sklearn-color-fitted-level-2);\n",
       "}\n",
       "\n",
       "#sk-container-id-3 div.sk-label label.sk-toggleable__label,\n",
       "#sk-container-id-3 div.sk-label label {\n",
       "  /* The background is the default theme color */\n",
       "  color: var(--sklearn-color-text-on-default-background);\n",
       "}\n",
       "\n",
       "/* On hover, darken the color of the background */\n",
       "#sk-container-id-3 div.sk-label:hover label.sk-toggleable__label {\n",
       "  color: var(--sklearn-color-text);\n",
       "  background-color: var(--sklearn-color-unfitted-level-2);\n",
       "}\n",
       "\n",
       "/* Label box, darken color on hover, fitted */\n",
       "#sk-container-id-3 div.sk-label.fitted:hover label.sk-toggleable__label.fitted {\n",
       "  color: var(--sklearn-color-text);\n",
       "  background-color: var(--sklearn-color-fitted-level-2);\n",
       "}\n",
       "\n",
       "/* Estimator label */\n",
       "\n",
       "#sk-container-id-3 div.sk-label label {\n",
       "  font-family: monospace;\n",
       "  font-weight: bold;\n",
       "  display: inline-block;\n",
       "  line-height: 1.2em;\n",
       "}\n",
       "\n",
       "#sk-container-id-3 div.sk-label-container {\n",
       "  text-align: center;\n",
       "}\n",
       "\n",
       "/* Estimator-specific */\n",
       "#sk-container-id-3 div.sk-estimator {\n",
       "  font-family: monospace;\n",
       "  border: 1px dotted var(--sklearn-color-border-box);\n",
       "  border-radius: 0.25em;\n",
       "  box-sizing: border-box;\n",
       "  margin-bottom: 0.5em;\n",
       "  /* unfitted */\n",
       "  background-color: var(--sklearn-color-unfitted-level-0);\n",
       "}\n",
       "\n",
       "#sk-container-id-3 div.sk-estimator.fitted {\n",
       "  /* fitted */\n",
       "  background-color: var(--sklearn-color-fitted-level-0);\n",
       "}\n",
       "\n",
       "/* on hover */\n",
       "#sk-container-id-3 div.sk-estimator:hover {\n",
       "  /* unfitted */\n",
       "  background-color: var(--sklearn-color-unfitted-level-2);\n",
       "}\n",
       "\n",
       "#sk-container-id-3 div.sk-estimator.fitted:hover {\n",
       "  /* fitted */\n",
       "  background-color: var(--sklearn-color-fitted-level-2);\n",
       "}\n",
       "\n",
       "/* Specification for estimator info (e.g. \"i\" and \"?\") */\n",
       "\n",
       "/* Common style for \"i\" and \"?\" */\n",
       "\n",
       ".sk-estimator-doc-link,\n",
       "a:link.sk-estimator-doc-link,\n",
       "a:visited.sk-estimator-doc-link {\n",
       "  float: right;\n",
       "  font-size: smaller;\n",
       "  line-height: 1em;\n",
       "  font-family: monospace;\n",
       "  background-color: var(--sklearn-color-background);\n",
       "  border-radius: 1em;\n",
       "  height: 1em;\n",
       "  width: 1em;\n",
       "  text-decoration: none !important;\n",
       "  margin-left: 1ex;\n",
       "  /* unfitted */\n",
       "  border: var(--sklearn-color-unfitted-level-1) 1pt solid;\n",
       "  color: var(--sklearn-color-unfitted-level-1);\n",
       "}\n",
       "\n",
       ".sk-estimator-doc-link.fitted,\n",
       "a:link.sk-estimator-doc-link.fitted,\n",
       "a:visited.sk-estimator-doc-link.fitted {\n",
       "  /* fitted */\n",
       "  border: var(--sklearn-color-fitted-level-1) 1pt solid;\n",
       "  color: var(--sklearn-color-fitted-level-1);\n",
       "}\n",
       "\n",
       "/* On hover */\n",
       "div.sk-estimator:hover .sk-estimator-doc-link:hover,\n",
       ".sk-estimator-doc-link:hover,\n",
       "div.sk-label-container:hover .sk-estimator-doc-link:hover,\n",
       ".sk-estimator-doc-link:hover {\n",
       "  /* unfitted */\n",
       "  background-color: var(--sklearn-color-unfitted-level-3);\n",
       "  color: var(--sklearn-color-background);\n",
       "  text-decoration: none;\n",
       "}\n",
       "\n",
       "div.sk-estimator.fitted:hover .sk-estimator-doc-link.fitted:hover,\n",
       ".sk-estimator-doc-link.fitted:hover,\n",
       "div.sk-label-container:hover .sk-estimator-doc-link.fitted:hover,\n",
       ".sk-estimator-doc-link.fitted:hover {\n",
       "  /* fitted */\n",
       "  background-color: var(--sklearn-color-fitted-level-3);\n",
       "  color: var(--sklearn-color-background);\n",
       "  text-decoration: none;\n",
       "}\n",
       "\n",
       "/* Span, style for the box shown on hovering the info icon */\n",
       ".sk-estimator-doc-link span {\n",
       "  display: none;\n",
       "  z-index: 9999;\n",
       "  position: relative;\n",
       "  font-weight: normal;\n",
       "  right: .2ex;\n",
       "  padding: .5ex;\n",
       "  margin: .5ex;\n",
       "  width: min-content;\n",
       "  min-width: 20ex;\n",
       "  max-width: 50ex;\n",
       "  color: var(--sklearn-color-text);\n",
       "  box-shadow: 2pt 2pt 4pt #999;\n",
       "  /* unfitted */\n",
       "  background: var(--sklearn-color-unfitted-level-0);\n",
       "  border: .5pt solid var(--sklearn-color-unfitted-level-3);\n",
       "}\n",
       "\n",
       ".sk-estimator-doc-link.fitted span {\n",
       "  /* fitted */\n",
       "  background: var(--sklearn-color-fitted-level-0);\n",
       "  border: var(--sklearn-color-fitted-level-3);\n",
       "}\n",
       "\n",
       ".sk-estimator-doc-link:hover span {\n",
       "  display: block;\n",
       "}\n",
       "\n",
       "/* \"?\"-specific style due to the `<a>` HTML tag */\n",
       "\n",
       "#sk-container-id-3 a.estimator_doc_link {\n",
       "  float: right;\n",
       "  font-size: 1rem;\n",
       "  line-height: 1em;\n",
       "  font-family: monospace;\n",
       "  background-color: var(--sklearn-color-background);\n",
       "  border-radius: 1rem;\n",
       "  height: 1rem;\n",
       "  width: 1rem;\n",
       "  text-decoration: none;\n",
       "  /* unfitted */\n",
       "  color: var(--sklearn-color-unfitted-level-1);\n",
       "  border: var(--sklearn-color-unfitted-level-1) 1pt solid;\n",
       "}\n",
       "\n",
       "#sk-container-id-3 a.estimator_doc_link.fitted {\n",
       "  /* fitted */\n",
       "  border: var(--sklearn-color-fitted-level-1) 1pt solid;\n",
       "  color: var(--sklearn-color-fitted-level-1);\n",
       "}\n",
       "\n",
       "/* On hover */\n",
       "#sk-container-id-3 a.estimator_doc_link:hover {\n",
       "  /* unfitted */\n",
       "  background-color: var(--sklearn-color-unfitted-level-3);\n",
       "  color: var(--sklearn-color-background);\n",
       "  text-decoration: none;\n",
       "}\n",
       "\n",
       "#sk-container-id-3 a.estimator_doc_link.fitted:hover {\n",
       "  /* fitted */\n",
       "  background-color: var(--sklearn-color-fitted-level-3);\n",
       "}\n",
       "</style><div id=\"sk-container-id-3\" class=\"sk-top-container\"><div class=\"sk-text-repr-fallback\"><pre>GridSearchCV(cv=5, estimator=KNeighborsClassifier(),\n",
       "             param_grid={&#x27;n_neighbors&#x27;: [3, 5, 7, 8]}, scoring=&#x27;accuracy&#x27;)</pre><b>In a Jupyter environment, please rerun this cell to show the HTML representation or trust the notebook. <br />On GitHub, the HTML representation is unable to render, please try loading this page with nbviewer.org.</b></div><div class=\"sk-container\" hidden><div class=\"sk-item sk-dashed-wrapped\"><div class=\"sk-label-container\"><div class=\"sk-label fitted sk-toggleable\"><input class=\"sk-toggleable__control sk-hidden--visually\" id=\"sk-estimator-id-5\" type=\"checkbox\" ><label for=\"sk-estimator-id-5\" class=\"sk-toggleable__label fitted sk-toggleable__label-arrow fitted\">&nbsp;&nbsp;GridSearchCV<a class=\"sk-estimator-doc-link fitted\" rel=\"noreferrer\" target=\"_blank\" href=\"https://scikit-learn.org/1.4/modules/generated/sklearn.model_selection.GridSearchCV.html\">?<span>Documentation for GridSearchCV</span></a><span class=\"sk-estimator-doc-link fitted\">i<span>Fitted</span></span></label><div class=\"sk-toggleable__content fitted\"><pre>GridSearchCV(cv=5, estimator=KNeighborsClassifier(),\n",
       "             param_grid={&#x27;n_neighbors&#x27;: [3, 5, 7, 8]}, scoring=&#x27;accuracy&#x27;)</pre></div> </div></div><div class=\"sk-parallel\"><div class=\"sk-parallel-item\"><div class=\"sk-item\"><div class=\"sk-label-container\"><div class=\"sk-label fitted sk-toggleable\"><input class=\"sk-toggleable__control sk-hidden--visually\" id=\"sk-estimator-id-6\" type=\"checkbox\" ><label for=\"sk-estimator-id-6\" class=\"sk-toggleable__label fitted sk-toggleable__label-arrow fitted\">estimator: KNeighborsClassifier</label><div class=\"sk-toggleable__content fitted\"><pre>KNeighborsClassifier()</pre></div> </div></div><div class=\"sk-serial\"><div class=\"sk-item\"><div class=\"sk-estimator fitted sk-toggleable\"><input class=\"sk-toggleable__control sk-hidden--visually\" id=\"sk-estimator-id-7\" type=\"checkbox\" ><label for=\"sk-estimator-id-7\" class=\"sk-toggleable__label fitted sk-toggleable__label-arrow fitted\">&nbsp;KNeighborsClassifier<a class=\"sk-estimator-doc-link fitted\" rel=\"noreferrer\" target=\"_blank\" href=\"https://scikit-learn.org/1.4/modules/generated/sklearn.neighbors.KNeighborsClassifier.html\">?<span>Documentation for KNeighborsClassifier</span></a></label><div class=\"sk-toggleable__content fitted\"><pre>KNeighborsClassifier()</pre></div> </div></div></div></div></div></div></div></div></div>"
      ],
      "text/plain": [
       "GridSearchCV(cv=5, estimator=KNeighborsClassifier(),\n",
       "             param_grid={'n_neighbors': [3, 5, 7, 8]}, scoring='accuracy')"
      ]
     },
     "execution_count": 106,
     "metadata": {},
     "output_type": "execute_result"
    }
   ],
   "source": [
    "grid_search = GridSearchCV(knn_classifier, param_grid, cv=5, scoring='accuracy')\n",
    "grid_search.fit(X_train, y_train)"
   ]
  },
  {
   "cell_type": "code",
   "execution_count": 107,
   "metadata": {
    "execution": {
     "iopub.execute_input": "2024-03-30T11:13:17.806297Z",
     "iopub.status.busy": "2024-03-30T11:13:17.805624Z",
     "iopub.status.idle": "2024-03-30T11:13:17.81162Z",
     "shell.execute_reply": "2024-03-30T11:13:17.81042Z",
     "shell.execute_reply.started": "2024-03-30T11:13:17.806253Z"
    },
    "id": "sppAhPO2BDJV"
   },
   "outputs": [],
   "source": [
    "best_params = grid_search.best_params_\n",
    "best_score = grid_search.best_score_"
   ]
  },
  {
   "cell_type": "code",
   "execution_count": 108,
   "metadata": {
    "execution": {
     "iopub.execute_input": "2024-03-30T11:13:17.813755Z",
     "iopub.status.busy": "2024-03-30T11:13:17.812935Z",
     "iopub.status.idle": "2024-03-30T11:13:17.826667Z",
     "shell.execute_reply": "2024-03-30T11:13:17.825257Z",
     "shell.execute_reply.started": "2024-03-30T11:13:17.813722Z"
    },
    "id": "D1yPSkcUBnxH"
   },
   "outputs": [],
   "source": [
    "# use the best parameters to initilize the classifier\n",
    "best_k = best_params['n_neighbors']\n",
    "best_knn_classifier = KNeighborsClassifier(n_neighbors=best_k)"
   ]
  },
  {
   "cell_type": "code",
   "execution_count": 109,
   "metadata": {
    "execution": {
     "iopub.execute_input": "2024-03-30T11:13:17.830727Z",
     "iopub.status.busy": "2024-03-30T11:13:17.830289Z",
     "iopub.status.idle": "2024-03-30T11:13:17.845486Z",
     "shell.execute_reply": "2024-03-30T11:13:17.844155Z",
     "shell.execute_reply.started": "2024-03-30T11:13:17.830689Z"
    },
    "id": "8-2nZSCnCHG-",
    "outputId": "e2bfcd7b-7f7a-4155-f491-23e002e6e952"
   },
   "outputs": [
    {
     "data": {
      "text/html": [
       "<style>#sk-container-id-4 {\n",
       "  /* Definition of color scheme common for light and dark mode */\n",
       "  --sklearn-color-text: black;\n",
       "  --sklearn-color-line: gray;\n",
       "  /* Definition of color scheme for unfitted estimators */\n",
       "  --sklearn-color-unfitted-level-0: #fff5e6;\n",
       "  --sklearn-color-unfitted-level-1: #f6e4d2;\n",
       "  --sklearn-color-unfitted-level-2: #ffe0b3;\n",
       "  --sklearn-color-unfitted-level-3: chocolate;\n",
       "  /* Definition of color scheme for fitted estimators */\n",
       "  --sklearn-color-fitted-level-0: #f0f8ff;\n",
       "  --sklearn-color-fitted-level-1: #d4ebff;\n",
       "  --sklearn-color-fitted-level-2: #b3dbfd;\n",
       "  --sklearn-color-fitted-level-3: cornflowerblue;\n",
       "\n",
       "  /* Specific color for light theme */\n",
       "  --sklearn-color-text-on-default-background: var(--sg-text-color, var(--theme-code-foreground, var(--jp-content-font-color1, black)));\n",
       "  --sklearn-color-background: var(--sg-background-color, var(--theme-background, var(--jp-layout-color0, white)));\n",
       "  --sklearn-color-border-box: var(--sg-text-color, var(--theme-code-foreground, var(--jp-content-font-color1, black)));\n",
       "  --sklearn-color-icon: #696969;\n",
       "\n",
       "  @media (prefers-color-scheme: dark) {\n",
       "    /* Redefinition of color scheme for dark theme */\n",
       "    --sklearn-color-text-on-default-background: var(--sg-text-color, var(--theme-code-foreground, var(--jp-content-font-color1, white)));\n",
       "    --sklearn-color-background: var(--sg-background-color, var(--theme-background, var(--jp-layout-color0, #111)));\n",
       "    --sklearn-color-border-box: var(--sg-text-color, var(--theme-code-foreground, var(--jp-content-font-color1, white)));\n",
       "    --sklearn-color-icon: #878787;\n",
       "  }\n",
       "}\n",
       "\n",
       "#sk-container-id-4 {\n",
       "  color: var(--sklearn-color-text);\n",
       "}\n",
       "\n",
       "#sk-container-id-4 pre {\n",
       "  padding: 0;\n",
       "}\n",
       "\n",
       "#sk-container-id-4 input.sk-hidden--visually {\n",
       "  border: 0;\n",
       "  clip: rect(1px 1px 1px 1px);\n",
       "  clip: rect(1px, 1px, 1px, 1px);\n",
       "  height: 1px;\n",
       "  margin: -1px;\n",
       "  overflow: hidden;\n",
       "  padding: 0;\n",
       "  position: absolute;\n",
       "  width: 1px;\n",
       "}\n",
       "\n",
       "#sk-container-id-4 div.sk-dashed-wrapped {\n",
       "  border: 1px dashed var(--sklearn-color-line);\n",
       "  margin: 0 0.4em 0.5em 0.4em;\n",
       "  box-sizing: border-box;\n",
       "  padding-bottom: 0.4em;\n",
       "  background-color: var(--sklearn-color-background);\n",
       "}\n",
       "\n",
       "#sk-container-id-4 div.sk-container {\n",
       "  /* jupyter's `normalize.less` sets `[hidden] { display: none; }`\n",
       "     but bootstrap.min.css set `[hidden] { display: none !important; }`\n",
       "     so we also need the `!important` here to be able to override the\n",
       "     default hidden behavior on the sphinx rendered scikit-learn.org.\n",
       "     See: https://github.com/scikit-learn/scikit-learn/issues/21755 */\n",
       "  display: inline-block !important;\n",
       "  position: relative;\n",
       "}\n",
       "\n",
       "#sk-container-id-4 div.sk-text-repr-fallback {\n",
       "  display: none;\n",
       "}\n",
       "\n",
       "div.sk-parallel-item,\n",
       "div.sk-serial,\n",
       "div.sk-item {\n",
       "  /* draw centered vertical line to link estimators */\n",
       "  background-image: linear-gradient(var(--sklearn-color-text-on-default-background), var(--sklearn-color-text-on-default-background));\n",
       "  background-size: 2px 100%;\n",
       "  background-repeat: no-repeat;\n",
       "  background-position: center center;\n",
       "}\n",
       "\n",
       "/* Parallel-specific style estimator block */\n",
       "\n",
       "#sk-container-id-4 div.sk-parallel-item::after {\n",
       "  content: \"\";\n",
       "  width: 100%;\n",
       "  border-bottom: 2px solid var(--sklearn-color-text-on-default-background);\n",
       "  flex-grow: 1;\n",
       "}\n",
       "\n",
       "#sk-container-id-4 div.sk-parallel {\n",
       "  display: flex;\n",
       "  align-items: stretch;\n",
       "  justify-content: center;\n",
       "  background-color: var(--sklearn-color-background);\n",
       "  position: relative;\n",
       "}\n",
       "\n",
       "#sk-container-id-4 div.sk-parallel-item {\n",
       "  display: flex;\n",
       "  flex-direction: column;\n",
       "}\n",
       "\n",
       "#sk-container-id-4 div.sk-parallel-item:first-child::after {\n",
       "  align-self: flex-end;\n",
       "  width: 50%;\n",
       "}\n",
       "\n",
       "#sk-container-id-4 div.sk-parallel-item:last-child::after {\n",
       "  align-self: flex-start;\n",
       "  width: 50%;\n",
       "}\n",
       "\n",
       "#sk-container-id-4 div.sk-parallel-item:only-child::after {\n",
       "  width: 0;\n",
       "}\n",
       "\n",
       "/* Serial-specific style estimator block */\n",
       "\n",
       "#sk-container-id-4 div.sk-serial {\n",
       "  display: flex;\n",
       "  flex-direction: column;\n",
       "  align-items: center;\n",
       "  background-color: var(--sklearn-color-background);\n",
       "  padding-right: 1em;\n",
       "  padding-left: 1em;\n",
       "}\n",
       "\n",
       "\n",
       "/* Toggleable style: style used for estimator/Pipeline/ColumnTransformer box that is\n",
       "clickable and can be expanded/collapsed.\n",
       "- Pipeline and ColumnTransformer use this feature and define the default style\n",
       "- Estimators will overwrite some part of the style using the `sk-estimator` class\n",
       "*/\n",
       "\n",
       "/* Pipeline and ColumnTransformer style (default) */\n",
       "\n",
       "#sk-container-id-4 div.sk-toggleable {\n",
       "  /* Default theme specific background. It is overwritten whether we have a\n",
       "  specific estimator or a Pipeline/ColumnTransformer */\n",
       "  background-color: var(--sklearn-color-background);\n",
       "}\n",
       "\n",
       "/* Toggleable label */\n",
       "#sk-container-id-4 label.sk-toggleable__label {\n",
       "  cursor: pointer;\n",
       "  display: block;\n",
       "  width: 100%;\n",
       "  margin-bottom: 0;\n",
       "  padding: 0.5em;\n",
       "  box-sizing: border-box;\n",
       "  text-align: center;\n",
       "}\n",
       "\n",
       "#sk-container-id-4 label.sk-toggleable__label-arrow:before {\n",
       "  /* Arrow on the left of the label */\n",
       "  content: \"▸\";\n",
       "  float: left;\n",
       "  margin-right: 0.25em;\n",
       "  color: var(--sklearn-color-icon);\n",
       "}\n",
       "\n",
       "#sk-container-id-4 label.sk-toggleable__label-arrow:hover:before {\n",
       "  color: var(--sklearn-color-text);\n",
       "}\n",
       "\n",
       "/* Toggleable content - dropdown */\n",
       "\n",
       "#sk-container-id-4 div.sk-toggleable__content {\n",
       "  max-height: 0;\n",
       "  max-width: 0;\n",
       "  overflow: hidden;\n",
       "  text-align: left;\n",
       "  /* unfitted */\n",
       "  background-color: var(--sklearn-color-unfitted-level-0);\n",
       "}\n",
       "\n",
       "#sk-container-id-4 div.sk-toggleable__content.fitted {\n",
       "  /* fitted */\n",
       "  background-color: var(--sklearn-color-fitted-level-0);\n",
       "}\n",
       "\n",
       "#sk-container-id-4 div.sk-toggleable__content pre {\n",
       "  margin: 0.2em;\n",
       "  border-radius: 0.25em;\n",
       "  color: var(--sklearn-color-text);\n",
       "  /* unfitted */\n",
       "  background-color: var(--sklearn-color-unfitted-level-0);\n",
       "}\n",
       "\n",
       "#sk-container-id-4 div.sk-toggleable__content.fitted pre {\n",
       "  /* unfitted */\n",
       "  background-color: var(--sklearn-color-fitted-level-0);\n",
       "}\n",
       "\n",
       "#sk-container-id-4 input.sk-toggleable__control:checked~div.sk-toggleable__content {\n",
       "  /* Expand drop-down */\n",
       "  max-height: 200px;\n",
       "  max-width: 100%;\n",
       "  overflow: auto;\n",
       "}\n",
       "\n",
       "#sk-container-id-4 input.sk-toggleable__control:checked~label.sk-toggleable__label-arrow:before {\n",
       "  content: \"▾\";\n",
       "}\n",
       "\n",
       "/* Pipeline/ColumnTransformer-specific style */\n",
       "\n",
       "#sk-container-id-4 div.sk-label input.sk-toggleable__control:checked~label.sk-toggleable__label {\n",
       "  color: var(--sklearn-color-text);\n",
       "  background-color: var(--sklearn-color-unfitted-level-2);\n",
       "}\n",
       "\n",
       "#sk-container-id-4 div.sk-label.fitted input.sk-toggleable__control:checked~label.sk-toggleable__label {\n",
       "  background-color: var(--sklearn-color-fitted-level-2);\n",
       "}\n",
       "\n",
       "/* Estimator-specific style */\n",
       "\n",
       "/* Colorize estimator box */\n",
       "#sk-container-id-4 div.sk-estimator input.sk-toggleable__control:checked~label.sk-toggleable__label {\n",
       "  /* unfitted */\n",
       "  background-color: var(--sklearn-color-unfitted-level-2);\n",
       "}\n",
       "\n",
       "#sk-container-id-4 div.sk-estimator.fitted input.sk-toggleable__control:checked~label.sk-toggleable__label {\n",
       "  /* fitted */\n",
       "  background-color: var(--sklearn-color-fitted-level-2);\n",
       "}\n",
       "\n",
       "#sk-container-id-4 div.sk-label label.sk-toggleable__label,\n",
       "#sk-container-id-4 div.sk-label label {\n",
       "  /* The background is the default theme color */\n",
       "  color: var(--sklearn-color-text-on-default-background);\n",
       "}\n",
       "\n",
       "/* On hover, darken the color of the background */\n",
       "#sk-container-id-4 div.sk-label:hover label.sk-toggleable__label {\n",
       "  color: var(--sklearn-color-text);\n",
       "  background-color: var(--sklearn-color-unfitted-level-2);\n",
       "}\n",
       "\n",
       "/* Label box, darken color on hover, fitted */\n",
       "#sk-container-id-4 div.sk-label.fitted:hover label.sk-toggleable__label.fitted {\n",
       "  color: var(--sklearn-color-text);\n",
       "  background-color: var(--sklearn-color-fitted-level-2);\n",
       "}\n",
       "\n",
       "/* Estimator label */\n",
       "\n",
       "#sk-container-id-4 div.sk-label label {\n",
       "  font-family: monospace;\n",
       "  font-weight: bold;\n",
       "  display: inline-block;\n",
       "  line-height: 1.2em;\n",
       "}\n",
       "\n",
       "#sk-container-id-4 div.sk-label-container {\n",
       "  text-align: center;\n",
       "}\n",
       "\n",
       "/* Estimator-specific */\n",
       "#sk-container-id-4 div.sk-estimator {\n",
       "  font-family: monospace;\n",
       "  border: 1px dotted var(--sklearn-color-border-box);\n",
       "  border-radius: 0.25em;\n",
       "  box-sizing: border-box;\n",
       "  margin-bottom: 0.5em;\n",
       "  /* unfitted */\n",
       "  background-color: var(--sklearn-color-unfitted-level-0);\n",
       "}\n",
       "\n",
       "#sk-container-id-4 div.sk-estimator.fitted {\n",
       "  /* fitted */\n",
       "  background-color: var(--sklearn-color-fitted-level-0);\n",
       "}\n",
       "\n",
       "/* on hover */\n",
       "#sk-container-id-4 div.sk-estimator:hover {\n",
       "  /* unfitted */\n",
       "  background-color: var(--sklearn-color-unfitted-level-2);\n",
       "}\n",
       "\n",
       "#sk-container-id-4 div.sk-estimator.fitted:hover {\n",
       "  /* fitted */\n",
       "  background-color: var(--sklearn-color-fitted-level-2);\n",
       "}\n",
       "\n",
       "/* Specification for estimator info (e.g. \"i\" and \"?\") */\n",
       "\n",
       "/* Common style for \"i\" and \"?\" */\n",
       "\n",
       ".sk-estimator-doc-link,\n",
       "a:link.sk-estimator-doc-link,\n",
       "a:visited.sk-estimator-doc-link {\n",
       "  float: right;\n",
       "  font-size: smaller;\n",
       "  line-height: 1em;\n",
       "  font-family: monospace;\n",
       "  background-color: var(--sklearn-color-background);\n",
       "  border-radius: 1em;\n",
       "  height: 1em;\n",
       "  width: 1em;\n",
       "  text-decoration: none !important;\n",
       "  margin-left: 1ex;\n",
       "  /* unfitted */\n",
       "  border: var(--sklearn-color-unfitted-level-1) 1pt solid;\n",
       "  color: var(--sklearn-color-unfitted-level-1);\n",
       "}\n",
       "\n",
       ".sk-estimator-doc-link.fitted,\n",
       "a:link.sk-estimator-doc-link.fitted,\n",
       "a:visited.sk-estimator-doc-link.fitted {\n",
       "  /* fitted */\n",
       "  border: var(--sklearn-color-fitted-level-1) 1pt solid;\n",
       "  color: var(--sklearn-color-fitted-level-1);\n",
       "}\n",
       "\n",
       "/* On hover */\n",
       "div.sk-estimator:hover .sk-estimator-doc-link:hover,\n",
       ".sk-estimator-doc-link:hover,\n",
       "div.sk-label-container:hover .sk-estimator-doc-link:hover,\n",
       ".sk-estimator-doc-link:hover {\n",
       "  /* unfitted */\n",
       "  background-color: var(--sklearn-color-unfitted-level-3);\n",
       "  color: var(--sklearn-color-background);\n",
       "  text-decoration: none;\n",
       "}\n",
       "\n",
       "div.sk-estimator.fitted:hover .sk-estimator-doc-link.fitted:hover,\n",
       ".sk-estimator-doc-link.fitted:hover,\n",
       "div.sk-label-container:hover .sk-estimator-doc-link.fitted:hover,\n",
       ".sk-estimator-doc-link.fitted:hover {\n",
       "  /* fitted */\n",
       "  background-color: var(--sklearn-color-fitted-level-3);\n",
       "  color: var(--sklearn-color-background);\n",
       "  text-decoration: none;\n",
       "}\n",
       "\n",
       "/* Span, style for the box shown on hovering the info icon */\n",
       ".sk-estimator-doc-link span {\n",
       "  display: none;\n",
       "  z-index: 9999;\n",
       "  position: relative;\n",
       "  font-weight: normal;\n",
       "  right: .2ex;\n",
       "  padding: .5ex;\n",
       "  margin: .5ex;\n",
       "  width: min-content;\n",
       "  min-width: 20ex;\n",
       "  max-width: 50ex;\n",
       "  color: var(--sklearn-color-text);\n",
       "  box-shadow: 2pt 2pt 4pt #999;\n",
       "  /* unfitted */\n",
       "  background: var(--sklearn-color-unfitted-level-0);\n",
       "  border: .5pt solid var(--sklearn-color-unfitted-level-3);\n",
       "}\n",
       "\n",
       ".sk-estimator-doc-link.fitted span {\n",
       "  /* fitted */\n",
       "  background: var(--sklearn-color-fitted-level-0);\n",
       "  border: var(--sklearn-color-fitted-level-3);\n",
       "}\n",
       "\n",
       ".sk-estimator-doc-link:hover span {\n",
       "  display: block;\n",
       "}\n",
       "\n",
       "/* \"?\"-specific style due to the `<a>` HTML tag */\n",
       "\n",
       "#sk-container-id-4 a.estimator_doc_link {\n",
       "  float: right;\n",
       "  font-size: 1rem;\n",
       "  line-height: 1em;\n",
       "  font-family: monospace;\n",
       "  background-color: var(--sklearn-color-background);\n",
       "  border-radius: 1rem;\n",
       "  height: 1rem;\n",
       "  width: 1rem;\n",
       "  text-decoration: none;\n",
       "  /* unfitted */\n",
       "  color: var(--sklearn-color-unfitted-level-1);\n",
       "  border: var(--sklearn-color-unfitted-level-1) 1pt solid;\n",
       "}\n",
       "\n",
       "#sk-container-id-4 a.estimator_doc_link.fitted {\n",
       "  /* fitted */\n",
       "  border: var(--sklearn-color-fitted-level-1) 1pt solid;\n",
       "  color: var(--sklearn-color-fitted-level-1);\n",
       "}\n",
       "\n",
       "/* On hover */\n",
       "#sk-container-id-4 a.estimator_doc_link:hover {\n",
       "  /* unfitted */\n",
       "  background-color: var(--sklearn-color-unfitted-level-3);\n",
       "  color: var(--sklearn-color-background);\n",
       "  text-decoration: none;\n",
       "}\n",
       "\n",
       "#sk-container-id-4 a.estimator_doc_link.fitted:hover {\n",
       "  /* fitted */\n",
       "  background-color: var(--sklearn-color-fitted-level-3);\n",
       "}\n",
       "</style><div id=\"sk-container-id-4\" class=\"sk-top-container\"><div class=\"sk-text-repr-fallback\"><pre>KNeighborsClassifier(n_neighbors=3)</pre><b>In a Jupyter environment, please rerun this cell to show the HTML representation or trust the notebook. <br />On GitHub, the HTML representation is unable to render, please try loading this page with nbviewer.org.</b></div><div class=\"sk-container\" hidden><div class=\"sk-item\"><div class=\"sk-estimator fitted sk-toggleable\"><input class=\"sk-toggleable__control sk-hidden--visually\" id=\"sk-estimator-id-8\" type=\"checkbox\" checked><label for=\"sk-estimator-id-8\" class=\"sk-toggleable__label fitted sk-toggleable__label-arrow fitted\">&nbsp;&nbsp;KNeighborsClassifier<a class=\"sk-estimator-doc-link fitted\" rel=\"noreferrer\" target=\"_blank\" href=\"https://scikit-learn.org/1.4/modules/generated/sklearn.neighbors.KNeighborsClassifier.html\">?<span>Documentation for KNeighborsClassifier</span></a><span class=\"sk-estimator-doc-link fitted\">i<span>Fitted</span></span></label><div class=\"sk-toggleable__content fitted\"><pre>KNeighborsClassifier(n_neighbors=3)</pre></div> </div></div></div></div>"
      ],
      "text/plain": [
       "KNeighborsClassifier(n_neighbors=3)"
      ]
     },
     "execution_count": 109,
     "metadata": {},
     "output_type": "execute_result"
    }
   ],
   "source": [
    "# Train the KNN classifiers with the best parameters\n",
    "best_knn_classifier.fit(X_train, y_train)"
   ]
  },
  {
   "cell_type": "code",
   "execution_count": 110,
   "metadata": {
    "execution": {
     "iopub.execute_input": "2024-03-30T11:13:17.847413Z",
     "iopub.status.busy": "2024-03-30T11:13:17.847065Z",
     "iopub.status.idle": "2024-03-30T11:13:20.014546Z",
     "shell.execute_reply": "2024-03-30T11:13:20.013631Z",
     "shell.execute_reply.started": "2024-03-30T11:13:17.847384Z"
    },
    "id": "EvlRD_I1Cb-r"
   },
   "outputs": [],
   "source": [
    "y_pred = best_knn_classifier.predict(X_test)"
   ]
  },
  {
   "cell_type": "code",
   "execution_count": 111,
   "metadata": {
    "execution": {
     "iopub.execute_input": "2024-03-30T11:13:20.016415Z",
     "iopub.status.busy": "2024-03-30T11:13:20.016054Z",
     "iopub.status.idle": "2024-03-30T11:13:20.034613Z",
     "shell.execute_reply": "2024-03-30T11:13:20.033257Z",
     "shell.execute_reply.started": "2024-03-30T11:13:20.016377Z"
    },
    "id": "ilyCXWX9CqIh"
   },
   "outputs": [],
   "source": [
    "class_report = classification_report(y_test, y_pred)"
   ]
  },
  {
   "cell_type": "code",
   "execution_count": 112,
   "metadata": {
    "execution": {
     "iopub.execute_input": "2024-03-30T11:13:20.036317Z",
     "iopub.status.busy": "2024-03-30T11:13:20.03599Z",
     "iopub.status.idle": "2024-03-30T11:13:20.043407Z",
     "shell.execute_reply": "2024-03-30T11:13:20.042138Z",
     "shell.execute_reply.started": "2024-03-30T11:13:20.03629Z"
    },
    "id": "W47wYLbbCxhZ",
    "outputId": "e3ff75b5-149c-4073-b6f5-e7b9e5a0f313"
   },
   "outputs": [
    {
     "name": "stdout",
     "output_type": "stream",
     "text": [
      "Best Parameters: {'n_neighbors': 3}\n",
      "Best Score (CV Accuracy): 0.9740089975384093\n",
      "Classification Report:\n",
      "              precision    recall  f1-score   support\n",
      "\n",
      "           0       1.00      1.00      1.00         3\n",
      "           1       1.00      1.00      1.00         6\n",
      "           2       1.00      1.00      1.00         5\n",
      "           3       1.00      1.00      1.00         7\n",
      "           4       1.00      1.00      1.00         4\n",
      "           5       1.00      1.00      1.00         9\n",
      "           6       1.00      1.00      1.00         5\n",
      "           7       1.00      1.00      1.00         8\n",
      "           8       1.00      0.93      0.96        14\n",
      "           9       1.00      1.00      1.00         5\n",
      "          10       1.00      1.00      1.00         7\n",
      "          11       1.00      1.00      1.00         6\n",
      "          12       1.00      1.00      1.00        12\n",
      "          13       1.00      1.00      1.00         4\n",
      "          14       1.00      1.00      1.00         7\n",
      "          15       1.00      1.00      1.00        15\n",
      "          16       1.00      1.00      1.00         8\n",
      "          17       1.00      1.00      1.00         3\n",
      "          18       1.00      1.00      1.00        12\n",
      "          19       0.88      1.00      0.93         7\n",
      "          20       1.00      1.00      1.00        10\n",
      "          21       1.00      1.00      1.00         7\n",
      "          22       1.00      1.00      1.00         8\n",
      "          23       1.00      1.00      1.00        16\n",
      "          24       1.00      1.00      1.00         5\n",
      "\n",
      "    accuracy                           0.99       193\n",
      "   macro avg       0.99      1.00      1.00       193\n",
      "weighted avg       1.00      0.99      0.99       193\n",
      "\n"
     ]
    }
   ],
   "source": [
    "# Print best parameters and classification report\n",
    "print(\"Best Parameters:\", best_params)\n",
    "print(\"Best Score (CV Accuracy):\", best_score)\n",
    "print(\"Classification Report:\")\n",
    "print(class_report)"
   ]
  },
  {
   "cell_type": "markdown",
   "metadata": {
    "id": "qBCi_irIEyU7"
   },
   "source": [
    "#Pickling Data"
   ]
  },
  {
   "cell_type": "code",
   "execution_count": 113,
   "metadata": {
    "execution": {
     "iopub.execute_input": "2024-03-30T11:13:20.045541Z",
     "iopub.status.busy": "2024-03-30T11:13:20.045217Z",
     "iopub.status.idle": "2024-03-30T11:13:20.05951Z",
     "shell.execute_reply": "2024-03-30T11:13:20.058154Z",
     "shell.execute_reply.started": "2024-03-30T11:13:20.045515Z"
    },
    "id": "KVOg9uMjCzTL"
   },
   "outputs": [],
   "source": [
    "import pickle\n",
    "pickle.dump(tfidf,open('tfidf.pkl', 'wb'))\n",
    "pickle.dump(best_knn_classifier,open('best_knn_classifier.pkl', 'wb'))"
   ]
  },
  {
   "cell_type": "code",
   "execution_count": 114,
   "metadata": {
    "execution": {
     "iopub.execute_input": "2024-03-30T11:13:20.062219Z",
     "iopub.status.busy": "2024-03-30T11:13:20.061045Z",
     "iopub.status.idle": "2024-03-30T11:13:20.071664Z",
     "shell.execute_reply": "2024-03-30T11:13:20.070418Z",
     "shell.execute_reply.started": "2024-03-30T11:13:20.062177Z"
    },
    "id": "yaBOSRjlFGzb"
   },
   "outputs": [],
   "source": [
    "Sample_resume=\"\"\"\n",
    "\n",
    "\n",
    "CARTER ANDRADE\n",
    "Manual Tester\n",
    "+1-115-873-4179\n",
    "kimberlyjhnsn@gmail.com\n",
    "linkedin.com/in/kimberly.johnson9\n",
    "Los Angeles, CA\n",
    "A hard-working manual tester who is attentive to detail and has excellent time-management skills. Has achieved a 99% success rate in identifying bugs and suggesting ways to fix them. Experienced in working with different PM methodologies and database software.\n",
    "Manual Tester\n",
    "Wolf Inc\n",
    "\n",
    "2019 - Present\n",
    "\n",
    "Los Angeles, CA\n",
    "Wolf Inc is the third-largest software development company in the US\n",
    "•\n",
    "Working closely with the software development team to ensure bug-free applications\n",
    "•\n",
    "Actively participating in all phases of product testing, including planning and delivery recommendations\n",
    "•\n",
    "Writing extensive bug reports\n",
    "•\n",
    "Providing guidance to interns and junior manual testers\n",
    "•\n",
    "Participating in the QA processes of more than 14 companies annually\n",
    "Junior Manual Tester (QA)\n",
    "Schmeler\n",
    "\n",
    "2017 - 2019\n",
    "\n",
    "Singapore, Singapore\n",
    "Schmeler is a Singapore-based company which provides QA services to clients and partners\n",
    "•\n",
    "Provided numerous recommendations on ways to improve the user experience\n",
    "•\n",
    "Secured more than 20 successful product releases\n",
    "•\n",
    "Was individually responsible for testing the apps of 11 clients\n",
    "•\n",
    "Identified 97% of issues related to my personal clients' apps in 2018\n",
    "Manual tester - Summer Internship\n",
    "Padberg\n",
    "\n",
    "2016 - 2016\n",
    "\n",
    "San Jose, CA\n",
    "Padberg is a US-based company that specializes in service gamification\n",
    "•\n",
    "Supported senior colleagues by identifying bugs and suggesting improvements\n",
    "•\n",
    "Performed manual testing on 4 applications\n",
    "•\n",
    "Reported more than 700 issues\n",
    "Best Manual Tester in 2020\n",
    "Awarded by: Wolf Inc. for achieving 99% bug-free rate in 2020\n",
    "Innovative Approach to Manual Testing\n",
    "Adopted an innovative approach to manual testing by co-leading an interdisciplinary team for a short project\n",
    "TECH STACK\n",
    "JDBC\n",
    "ClickUp\n",
    "Testrail\n",
    "Jira\n",
    "Test Planning\n",
    "Oracle\n",
    "SQL\n",
    "MS Office\n",
    "Scrum\n",
    "Lean\n",
    "Waterfall\n",
    "Bachelor of Science in Computer Science\n",
    "University of California, Berkeley\n",
    "\n",
    "2013 - 2017\n",
    "\n",
    "Berkeley, CA\n",
    "Attention to Detail\n",
    "Completing all tasks while paying attention to even the smallest issues\n",
    "Strong Work Ethic\n",
    "Having an immense desire to complete each task in the best way possible\n",
    "Motivation and Hard Work\n",
    "Always motivated to learn new things and improve in all areas of life\n",
    "Manual QA\n",
    "LevelUp Learning IT Center, 2021\n",
    "Manual Testing Online Course\n",
    "FITA Academy, 2018\n",
    "SEO course\n",
    "IMT Academy, 2018\n",
    "ISTQB (Advanced)\n",
    "ASTQB, 2017\n",
    "© 2024 Enhancv. All Rights Reserved.\n",
    "Resume ExamplesTermsPrivacyBlogHelp\n",
    "Language\n",
    "Built with love & passion\n",
    "\n",
    "\"\"\""
   ]
  },
  {
   "cell_type": "code",
   "execution_count": 115,
   "metadata": {
    "execution": {
     "iopub.execute_input": "2024-03-30T11:13:20.075371Z",
     "iopub.status.busy": "2024-03-30T11:13:20.074954Z",
     "iopub.status.idle": "2024-03-30T11:13:20.090345Z",
     "shell.execute_reply": "2024-03-30T11:13:20.088975Z",
     "shell.execute_reply.started": "2024-03-30T11:13:20.075335Z"
    },
    "id": "7YZkjwyfMWLD"
   },
   "outputs": [],
   "source": [
    "Sample_resume2 = \"\"\"\n",
    "Certainly! Here's a civil engineer resume example with random information:\n",
    "\n",
    "---\n",
    "\n",
    "**John Smith**\n",
    "123 Main Street\n",
    "Springfield, IL 62701\n",
    "john.smith@email.com\n",
    "(555) 123-4567\n",
    "\n",
    "---\n",
    "\n",
    "**Objective:**\n",
    "Detail-oriented Civil Engineer with 5 years of experience in structural design and project management seeking to leverage expertise in delivering high-quality engineering solutions for infrastructure projects. Proven track record of completing projects on time and within budget while maintaining safety standards.\n",
    "\n",
    "---\n",
    "\n",
    "**Education:**\n",
    "- Bachelor of Science in Civil Engineering\n",
    "  Springfield University, Springfield, IL\n",
    "  Graduated: May 2015\n",
    "\n",
    "---\n",
    "\n",
    "**Professional Experience:**\n",
    "\n",
    "**Civil Engineer**\n",
    "Johnson & Associates Engineering Firm, Springfield, IL\n",
    "July 2015 - Present\n",
    "- Managed a team of engineers and technicians in the design and construction of various civil engineering projects.\n",
    "- Conducted structural analysis and design for bridges, highways, and buildings using software such as AutoCAD, SAP2000, and ETABS.\n",
    "- Prepared detailed project plans, specifications, and cost estimates, ensuring compliance with industry standards and regulations.\n",
    "- Coordinated with clients, contractors, and government agencies to obtain permits and approvals for project implementation.\n",
    "- Conducted site visits to monitor construction progress, resolve issues, and ensure adherence to design specifications and safety standards.\n",
    "- Implemented quality control measures to ensure the integrity and durability of structures.\n",
    "\n",
    "**Assistant Civil Engineer**\n",
    "Springfield Civil Engineering Services, Springfield, IL\n",
    "May 2014 - June 2015\n",
    "- Assisted senior engineers in the design and analysis of structural components for residential and commercial projects.\n",
    "- Conducted site surveys and collected data for feasibility studies and project planning.\n",
    "- Prepared technical reports, drawings, and documentation for project proposals and presentations.\n",
    "- Collaborated with architects, contractors, and subcontractors to coordinate project activities and resolve design conflicts.\n",
    "- Participated in construction meetings and provided technical support to field personnel.\n",
    "\n",
    "---\n",
    "\n",
    "**Skills:**\n",
    "- Proficient in structural analysis and design software such as AutoCAD, SAP2000, ETABS, and Revit.\n",
    "- Strong knowledge of civil engineering principles, codes, and standards.\n",
    "- Excellent project management skills, including scheduling, budgeting, and resource allocation.\n",
    "- Effective communication skills, both verbal and written, with the ability to convey complex technical concepts to non-technical stakeholders.\n",
    "- Detail-oriented with a focus on quality and accuracy.\n",
    "\n",
    "---\n",
    "\n",
    "**Certifications:**\n",
    "- Professional Engineer (PE) license, Illinois, 2017\n",
    "\n",
    "---\n",
    "\n",
    "**References:**\n",
    "Available upon request.\n",
    "\n",
    "---\n",
    "\n",
    "Feel free to adjust any details or add more sections as needed!\n",
    "\"\"\""
   ]
  },
  {
   "cell_type": "code",
   "execution_count": 116,
   "metadata": {},
   "outputs": [],
   "source": [
    "Sample_resume3 = \"\"\"I am a data scientist specializing in machine\n",
    "learning, deep learning, and computer vision. With\n",
    "a strong background in mathematics, statistics,\n",
    "and programming, I am passionate about\n",
    "uncovering hidden patterns and insights in data.\n",
    "I have extensive experience in developing\n",
    "predictive models, implementing deep learning\n",
    "algorithms, and designing computer vision\n",
    "systems. My technical skills include proficiency in\n",
    "Python, Sklearn, TensorFlow, and PyTorch.\n",
    "What sets me apart is my ability to effectively\n",
    "communicate complex concepts to diverse\n",
    "audiences. I excel in translating technical insights\n",
    "into actionable recommendations that drive\n",
    "informed decision-making.\n",
    "If you're looking for a dedicated and versatile data\n",
    "scientist to collaborate on impactful projects, I am\n",
    "eager to contribute my expertise. Let's harness the\n",
    "power of data together to unlock new possibilities\n",
    "and shape a better future.\n",
    "Contact & Sources\n",
    "Email: 611noorsaeed@gmail.com\n",
    "Phone: 03442826192\n",
    "Github: https://github.com/611noorsaeed\n",
    "Linkdin: https://www.linkedin.com/in/noor-saeed654a23263/\n",
    "Blogs: https://medium.com/@611noorsaeed\n",
    "Youtube: Artificial Intelligence\n",
    "ABOUT ME\n",
    "WORK EXPERIENCE\n",
    "SKILLES\n",
    "NOOR SAEED\n",
    "LANGUAGES\n",
    "English\n",
    "Urdu\n",
    "Hindi\n",
    "I am a versatile data scientist with expertise in a wide\n",
    "range of projects, including machine learning,\n",
    "recommendation systems, deep learning, and computer\n",
    "vision. Throughout my career, I have successfully\n",
    "developed and deployed various machine learning models\n",
    "to solve complex problems and drive data-driven\n",
    "decision-making\n",
    "Machine Learnine\n",
    "Deep Learning\n",
    "Computer Vision\n",
    "Recommendation Systems\n",
    "Data Visualization\n",
    "Programming Languages (Python, SQL)\n",
    "Data Preprocessing and Feature Engineering\n",
    "Model Evaluation and Deployment\n",
    "Statistical Analysis\n",
    "Communication and Collaboration\n",
    "\"\"\""
   ]
  },
  {
   "cell_type": "code",
   "execution_count": 123,
   "metadata": {
    "execution": {
     "iopub.execute_input": "2024-03-30T11:13:20.092539Z",
     "iopub.status.busy": "2024-03-30T11:13:20.091957Z",
     "iopub.status.idle": "2024-03-30T11:13:20.133211Z",
     "shell.execute_reply": "2024-03-30T11:13:20.132298Z",
     "shell.execute_reply.started": "2024-03-30T11:13:20.092497Z"
    },
    "id": "a9Cb_VkIJtlh",
    "outputId": "4cc9e253-dcea-4dfe-befc-e553267fc6a6"
   },
   "outputs": [
    {
     "name": "stdout",
     "output_type": "stream",
     "text": [
      "2\n",
      "Given Resume is for : Automation Testing\n",
      "5\n",
      "Given Resume is for : Civil Engineer\n",
      "6\n",
      "Given Resume is for : Data Science\n"
     ]
    }
   ],
   "source": [
    "import pickle\n",
    "\n",
    "\n",
    "clf = pickle.load(open('best_knn_classifier.pkl', 'rb'))\n",
    "\n",
    "#clean the Input Resume with Cleaned_resume Function\n",
    "# pass the sample resume\n",
    "cleaned_resume1= clean_resume(Sample_resume)\n",
    "cleaned_resume2= clean_resume(Sample_resume2)\n",
    "cleaned_resume3= clean_resume(Sample_resume3)\n",
    "\n",
    "#transformed the cleaned resume using the trained tfidvectorizer\n",
    "\n",
    "input_features1 = tfidf.transform([cleaned_resume1])\n",
    "input_features2 = tfidf.transform([cleaned_resume2])\n",
    "input_features3 = tfidf.transform([cleaned_resume3])\n",
    "input_features2\n",
    "# make the predictions using the loaded classifier\n",
    "\n",
    "prediction_id1 = clf.predict(input_features1)[0]\n",
    "prediction_id2 = clf.predict(input_features2)[0]\n",
    "prediction_id3 = clf.predict(input_features3)[0]\n",
    "\n",
    "\n",
    "print(prediction_id1)\n",
    "filtered_df = df1[df1['Category_num'] == prediction_id1]\n",
    "category_value = filtered_df['Category'].iloc[0]\n",
    "print(\"Given Resume is for :\", category_value)\n",
    "\n",
    "print(prediction_id2)\n",
    "filtered_df2 = df1[df1['Category_num'] == prediction_id2]\n",
    "category_value2 = filtered_df2['Category'].iloc[0]\n",
    "print(\"Given Resume is for :\", category_value2)\n",
    "\n",
    "print(prediction_id3)\n",
    "filtered_df3 = df1[df1['Category_num'] == prediction_id3]\n",
    "category_value3 = filtered_df3['Category'].iloc[0]\n",
    "print(\"Given Resume is for :\", category_value3)"
   ]
  },
  {
   "cell_type": "code",
   "execution_count": null,
   "metadata": {},
   "outputs": [],
   "source": []
  },
  {
   "cell_type": "code",
   "execution_count": null,
   "metadata": {},
   "outputs": [],
   "source": []
  }
 ],
 "metadata": {
  "colab": {
   "provenance": []
  },
  "kaggle": {
   "accelerator": "none",
   "dataSources": [
    {
     "datasetId": 1177531,
     "sourceId": 1971405,
     "sourceType": "datasetVersion"
    }
   ],
   "dockerImageVersionId": 30673,
   "isGpuEnabled": false,
   "isInternetEnabled": true,
   "language": "python",
   "sourceType": "notebook"
  },
  "kernelspec": {
   "display_name": "Python 3 (ipykernel)",
   "language": "python",
   "name": "python3"
  },
  "language_info": {
   "codemirror_mode": {
    "name": "ipython",
    "version": 3
   },
   "file_extension": ".py",
   "mimetype": "text/x-python",
   "name": "python",
   "nbconvert_exporter": "python",
   "pygments_lexer": "ipython3",
   "version": "3.11.3"
  }
 },
 "nbformat": 4,
 "nbformat_minor": 4
}
